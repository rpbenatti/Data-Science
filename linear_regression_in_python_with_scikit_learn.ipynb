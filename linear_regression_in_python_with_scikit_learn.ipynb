{
  "nbformat": 4,
  "nbformat_minor": 0,
  "metadata": {
    "kernelspec": {
      "display_name": "Python 3",
      "language": "python",
      "name": "python3"
    },
    "language_info": {
      "codemirror_mode": {
        "name": "ipython",
        "version": 3
      },
      "file_extension": ".py",
      "mimetype": "text/x-python",
      "name": "python",
      "nbconvert_exporter": "python",
      "pygments_lexer": "ipython3",
      "version": "3.7.3"
    },
    "toc": {
      "base_numbering": 1,
      "nav_menu": {},
      "number_sections": true,
      "sideBar": true,
      "skip_h1_title": false,
      "title_cell": "Table of Contents",
      "title_sidebar": "Contents",
      "toc_cell": false,
      "toc_position": {},
      "toc_section_display": true,
      "toc_window_display": false
    },
    "colab": {
      "name": "linear-regression-in-python-with-scikit-learn.ipynb",
      "version": "0.3.2",
      "provenance": [],
      "include_colab_link": true
    }
  },
  "cells": [
    {
      "cell_type": "markdown",
      "metadata": {
        "id": "view-in-github",
        "colab_type": "text"
      },
      "source": [
        "<a href=\"https://colab.research.google.com/github/rpbenatti/Data-Science/blob/master/linear_regression_in_python_with_scikit_learn.ipynb\" target=\"_parent\"><img src=\"https://colab.research.google.com/assets/colab-badge.svg\" alt=\"Open In Colab\"/></a>"
      ]
    },
    {
      "cell_type": "markdown",
      "metadata": {
        "id": "D6F0EBkY1Zw7",
        "colab_type": "text"
      },
      "source": [
        "   # A beginner’s guide to Linear Regression in Python with Scikit-Learn\n",
        "   \n",
        "   Ref.:\n",
        "   https://towardsdatascience.com/a-beginners-guide-to-linear-regression-in-python-with-scikit-learn-83a8f7ae2b4f"
      ]
    },
    {
      "cell_type": "markdown",
      "metadata": {
        "id": "Rlk6H-iP1Zw_",
        "colab_type": "text"
      },
      "source": [
        "## Simple Linear Regression"
      ]
    },
    {
      "cell_type": "markdown",
      "metadata": {
        "id": "ANXnfRKP1ZxB",
        "colab_type": "text"
      },
      "source": [
        "While exploring the Aerial Bombing Operations of World War Two dataset and recalling that the D-Day landings were nearly postponed due to poor weather, I downloaded these weather reports from the period to compare with missions in the bombing operations dataset.\n",
        "\n",
        "You can download the dataset from https://drive.google.com/open?id=1fiHg5DyvQeRC4SyhsVnje5dhJNyVWpO1."
      ]
    },
    {
      "cell_type": "code",
      "metadata": {
        "id": "Cfsy1uKz1ZxE",
        "colab_type": "code",
        "colab": {}
      },
      "source": [
        "# Import all the required libraries\n",
        "\n",
        "import pandas as pd  \n",
        "import numpy as np  \n",
        "import matplotlib.pyplot as plt  \n",
        "import seaborn as seabornInstance \n",
        "from sklearn.model_selection import train_test_split \n",
        "from sklearn.linear_model import LinearRegression\n",
        "from sklearn import metrics\n",
        "%matplotlib inline"
      ],
      "execution_count": 0,
      "outputs": []
    },
    {
      "cell_type": "code",
      "metadata": {
        "id": "gdskE1aJ1ZxM",
        "colab_type": "code",
        "colab": {},
        "outputId": "709de3c3-541e-4ce2-a93c-d1c8411821ce"
      },
      "source": [
        "dataset = pd.read_csv('Weather.csv')"
      ],
      "execution_count": 0,
      "outputs": [
        {
          "output_type": "stream",
          "text": [
            "C:\\ProgramData\\Anaconda3\\lib\\site-packages\\IPython\\core\\interactiveshell.py:3049: DtypeWarning: Columns (7,8,18,25) have mixed types. Specify dtype option on import or set low_memory=False.\n",
            "  interactivity=interactivity, compiler=compiler, result=result)\n"
          ],
          "name": "stderr"
        }
      ]
    },
    {
      "cell_type": "code",
      "metadata": {
        "id": "4bu-JusJ1ZxU",
        "colab_type": "code",
        "colab": {},
        "outputId": "f3ae673f-f8f6-48ba-fe44-c731275b72d8"
      },
      "source": [
        "# checking the number of rows and columns in our datasets.\n",
        "\n",
        "dataset.shape"
      ],
      "execution_count": 0,
      "outputs": [
        {
          "output_type": "execute_result",
          "data": {
            "text/plain": [
              "(119040, 31)"
            ]
          },
          "metadata": {
            "tags": []
          },
          "execution_count": 3
        }
      ]
    },
    {
      "cell_type": "code",
      "metadata": {
        "id": "SscGK0de1ZxY",
        "colab_type": "code",
        "colab": {},
        "outputId": "6a046e99-bbcb-4366-9d00-0605333a2dd6"
      },
      "source": [
        "dataset.head()"
      ],
      "execution_count": 0,
      "outputs": [
        {
          "output_type": "execute_result",
          "data": {
            "text/html": [
              "<div>\n",
              "<style scoped>\n",
              "    .dataframe tbody tr th:only-of-type {\n",
              "        vertical-align: middle;\n",
              "    }\n",
              "\n",
              "    .dataframe tbody tr th {\n",
              "        vertical-align: top;\n",
              "    }\n",
              "\n",
              "    .dataframe thead th {\n",
              "        text-align: right;\n",
              "    }\n",
              "</style>\n",
              "<table border=\"1\" class=\"dataframe\">\n",
              "  <thead>\n",
              "    <tr style=\"text-align: right;\">\n",
              "      <th></th>\n",
              "      <th>STA</th>\n",
              "      <th>Date</th>\n",
              "      <th>Precip</th>\n",
              "      <th>WindGustSpd</th>\n",
              "      <th>MaxTemp</th>\n",
              "      <th>MinTemp</th>\n",
              "      <th>MeanTemp</th>\n",
              "      <th>Snowfall</th>\n",
              "      <th>PoorWeather</th>\n",
              "      <th>YR</th>\n",
              "      <th>...</th>\n",
              "      <th>FB</th>\n",
              "      <th>FTI</th>\n",
              "      <th>ITH</th>\n",
              "      <th>PGT</th>\n",
              "      <th>TSHDSBRSGF</th>\n",
              "      <th>SD3</th>\n",
              "      <th>RHX</th>\n",
              "      <th>RHN</th>\n",
              "      <th>RVG</th>\n",
              "      <th>WTE</th>\n",
              "    </tr>\n",
              "  </thead>\n",
              "  <tbody>\n",
              "    <tr>\n",
              "      <th>0</th>\n",
              "      <td>10001</td>\n",
              "      <td>1942-7-1</td>\n",
              "      <td>1.016</td>\n",
              "      <td>NaN</td>\n",
              "      <td>25.555556</td>\n",
              "      <td>22.222222</td>\n",
              "      <td>23.888889</td>\n",
              "      <td>0</td>\n",
              "      <td>NaN</td>\n",
              "      <td>42</td>\n",
              "      <td>...</td>\n",
              "      <td>NaN</td>\n",
              "      <td>NaN</td>\n",
              "      <td>NaN</td>\n",
              "      <td>NaN</td>\n",
              "      <td>NaN</td>\n",
              "      <td>NaN</td>\n",
              "      <td>NaN</td>\n",
              "      <td>NaN</td>\n",
              "      <td>NaN</td>\n",
              "      <td>NaN</td>\n",
              "    </tr>\n",
              "    <tr>\n",
              "      <th>1</th>\n",
              "      <td>10001</td>\n",
              "      <td>1942-7-2</td>\n",
              "      <td>0</td>\n",
              "      <td>NaN</td>\n",
              "      <td>28.888889</td>\n",
              "      <td>21.666667</td>\n",
              "      <td>25.555556</td>\n",
              "      <td>0</td>\n",
              "      <td>NaN</td>\n",
              "      <td>42</td>\n",
              "      <td>...</td>\n",
              "      <td>NaN</td>\n",
              "      <td>NaN</td>\n",
              "      <td>NaN</td>\n",
              "      <td>NaN</td>\n",
              "      <td>NaN</td>\n",
              "      <td>NaN</td>\n",
              "      <td>NaN</td>\n",
              "      <td>NaN</td>\n",
              "      <td>NaN</td>\n",
              "      <td>NaN</td>\n",
              "    </tr>\n",
              "    <tr>\n",
              "      <th>2</th>\n",
              "      <td>10001</td>\n",
              "      <td>1942-7-3</td>\n",
              "      <td>2.54</td>\n",
              "      <td>NaN</td>\n",
              "      <td>26.111111</td>\n",
              "      <td>22.222222</td>\n",
              "      <td>24.444444</td>\n",
              "      <td>0</td>\n",
              "      <td>NaN</td>\n",
              "      <td>42</td>\n",
              "      <td>...</td>\n",
              "      <td>NaN</td>\n",
              "      <td>NaN</td>\n",
              "      <td>NaN</td>\n",
              "      <td>NaN</td>\n",
              "      <td>NaN</td>\n",
              "      <td>NaN</td>\n",
              "      <td>NaN</td>\n",
              "      <td>NaN</td>\n",
              "      <td>NaN</td>\n",
              "      <td>NaN</td>\n",
              "    </tr>\n",
              "    <tr>\n",
              "      <th>3</th>\n",
              "      <td>10001</td>\n",
              "      <td>1942-7-4</td>\n",
              "      <td>2.54</td>\n",
              "      <td>NaN</td>\n",
              "      <td>26.666667</td>\n",
              "      <td>22.222222</td>\n",
              "      <td>24.444444</td>\n",
              "      <td>0</td>\n",
              "      <td>NaN</td>\n",
              "      <td>42</td>\n",
              "      <td>...</td>\n",
              "      <td>NaN</td>\n",
              "      <td>NaN</td>\n",
              "      <td>NaN</td>\n",
              "      <td>NaN</td>\n",
              "      <td>NaN</td>\n",
              "      <td>NaN</td>\n",
              "      <td>NaN</td>\n",
              "      <td>NaN</td>\n",
              "      <td>NaN</td>\n",
              "      <td>NaN</td>\n",
              "    </tr>\n",
              "    <tr>\n",
              "      <th>4</th>\n",
              "      <td>10001</td>\n",
              "      <td>1942-7-5</td>\n",
              "      <td>0</td>\n",
              "      <td>NaN</td>\n",
              "      <td>26.666667</td>\n",
              "      <td>21.666667</td>\n",
              "      <td>24.444444</td>\n",
              "      <td>0</td>\n",
              "      <td>NaN</td>\n",
              "      <td>42</td>\n",
              "      <td>...</td>\n",
              "      <td>NaN</td>\n",
              "      <td>NaN</td>\n",
              "      <td>NaN</td>\n",
              "      <td>NaN</td>\n",
              "      <td>NaN</td>\n",
              "      <td>NaN</td>\n",
              "      <td>NaN</td>\n",
              "      <td>NaN</td>\n",
              "      <td>NaN</td>\n",
              "      <td>NaN</td>\n",
              "    </tr>\n",
              "  </tbody>\n",
              "</table>\n",
              "<p>5 rows × 31 columns</p>\n",
              "</div>"
            ],
            "text/plain": [
              "     STA      Date Precip  WindGustSpd    MaxTemp    MinTemp   MeanTemp  \\\n",
              "0  10001  1942-7-1  1.016          NaN  25.555556  22.222222  23.888889   \n",
              "1  10001  1942-7-2      0          NaN  28.888889  21.666667  25.555556   \n",
              "2  10001  1942-7-3   2.54          NaN  26.111111  22.222222  24.444444   \n",
              "3  10001  1942-7-4   2.54          NaN  26.666667  22.222222  24.444444   \n",
              "4  10001  1942-7-5      0          NaN  26.666667  21.666667  24.444444   \n",
              "\n",
              "  Snowfall PoorWeather  YR  ...  FB  FTI ITH  PGT  TSHDSBRSGF  SD3  RHX  RHN  \\\n",
              "0        0         NaN  42  ... NaN  NaN NaN  NaN         NaN  NaN  NaN  NaN   \n",
              "1        0         NaN  42  ... NaN  NaN NaN  NaN         NaN  NaN  NaN  NaN   \n",
              "2        0         NaN  42  ... NaN  NaN NaN  NaN         NaN  NaN  NaN  NaN   \n",
              "3        0         NaN  42  ... NaN  NaN NaN  NaN         NaN  NaN  NaN  NaN   \n",
              "4        0         NaN  42  ... NaN  NaN NaN  NaN         NaN  NaN  NaN  NaN   \n",
              "\n",
              "  RVG  WTE  \n",
              "0 NaN  NaN  \n",
              "1 NaN  NaN  \n",
              "2 NaN  NaN  \n",
              "3 NaN  NaN  \n",
              "4 NaN  NaN  \n",
              "\n",
              "[5 rows x 31 columns]"
            ]
          },
          "metadata": {
            "tags": []
          },
          "execution_count": 4
        }
      ]
    },
    {
      "cell_type": "code",
      "metadata": {
        "id": "IZbaJUca1Zxd",
        "colab_type": "code",
        "colab": {},
        "outputId": "0517c5d6-0af3-48dc-c169-1c75f7e7ef5d"
      },
      "source": [
        "dataset.describe().T"
      ],
      "execution_count": 0,
      "outputs": [
        {
          "output_type": "execute_result",
          "data": {
            "text/html": [
              "<div>\n",
              "<style scoped>\n",
              "    .dataframe tbody tr th:only-of-type {\n",
              "        vertical-align: middle;\n",
              "    }\n",
              "\n",
              "    .dataframe tbody tr th {\n",
              "        vertical-align: top;\n",
              "    }\n",
              "\n",
              "    .dataframe thead th {\n",
              "        text-align: right;\n",
              "    }\n",
              "</style>\n",
              "<table border=\"1\" class=\"dataframe\">\n",
              "  <thead>\n",
              "    <tr style=\"text-align: right;\">\n",
              "      <th></th>\n",
              "      <th>count</th>\n",
              "      <th>mean</th>\n",
              "      <th>std</th>\n",
              "      <th>min</th>\n",
              "      <th>25%</th>\n",
              "      <th>50%</th>\n",
              "      <th>75%</th>\n",
              "      <th>max</th>\n",
              "    </tr>\n",
              "  </thead>\n",
              "  <tbody>\n",
              "    <tr>\n",
              "      <th>STA</th>\n",
              "      <td>119040.0</td>\n",
              "      <td>29659.435795</td>\n",
              "      <td>20953.209402</td>\n",
              "      <td>10001.000000</td>\n",
              "      <td>11801.000000</td>\n",
              "      <td>22508.000000</td>\n",
              "      <td>33501.000000</td>\n",
              "      <td>82506.000000</td>\n",
              "    </tr>\n",
              "    <tr>\n",
              "      <th>WindGustSpd</th>\n",
              "      <td>532.0</td>\n",
              "      <td>37.774534</td>\n",
              "      <td>10.297808</td>\n",
              "      <td>18.520000</td>\n",
              "      <td>29.632000</td>\n",
              "      <td>37.040000</td>\n",
              "      <td>43.059000</td>\n",
              "      <td>75.932000</td>\n",
              "    </tr>\n",
              "    <tr>\n",
              "      <th>MaxTemp</th>\n",
              "      <td>119040.0</td>\n",
              "      <td>27.045111</td>\n",
              "      <td>8.717817</td>\n",
              "      <td>-33.333333</td>\n",
              "      <td>25.555556</td>\n",
              "      <td>29.444444</td>\n",
              "      <td>31.666667</td>\n",
              "      <td>50.000000</td>\n",
              "    </tr>\n",
              "    <tr>\n",
              "      <th>MinTemp</th>\n",
              "      <td>119040.0</td>\n",
              "      <td>17.789511</td>\n",
              "      <td>8.334572</td>\n",
              "      <td>-38.333333</td>\n",
              "      <td>15.000000</td>\n",
              "      <td>21.111111</td>\n",
              "      <td>23.333333</td>\n",
              "      <td>34.444444</td>\n",
              "    </tr>\n",
              "    <tr>\n",
              "      <th>MeanTemp</th>\n",
              "      <td>119040.0</td>\n",
              "      <td>22.411631</td>\n",
              "      <td>8.297982</td>\n",
              "      <td>-35.555556</td>\n",
              "      <td>20.555556</td>\n",
              "      <td>25.555556</td>\n",
              "      <td>27.222222</td>\n",
              "      <td>40.000000</td>\n",
              "    </tr>\n",
              "    <tr>\n",
              "      <th>YR</th>\n",
              "      <td>119040.0</td>\n",
              "      <td>43.805284</td>\n",
              "      <td>1.136718</td>\n",
              "      <td>40.000000</td>\n",
              "      <td>43.000000</td>\n",
              "      <td>44.000000</td>\n",
              "      <td>45.000000</td>\n",
              "      <td>45.000000</td>\n",
              "    </tr>\n",
              "    <tr>\n",
              "      <th>MO</th>\n",
              "      <td>119040.0</td>\n",
              "      <td>6.726016</td>\n",
              "      <td>3.425561</td>\n",
              "      <td>1.000000</td>\n",
              "      <td>4.000000</td>\n",
              "      <td>7.000000</td>\n",
              "      <td>10.000000</td>\n",
              "      <td>12.000000</td>\n",
              "    </tr>\n",
              "    <tr>\n",
              "      <th>DA</th>\n",
              "      <td>119040.0</td>\n",
              "      <td>15.797530</td>\n",
              "      <td>8.794541</td>\n",
              "      <td>1.000000</td>\n",
              "      <td>8.000000</td>\n",
              "      <td>16.000000</td>\n",
              "      <td>23.000000</td>\n",
              "      <td>31.000000</td>\n",
              "    </tr>\n",
              "    <tr>\n",
              "      <th>DR</th>\n",
              "      <td>533.0</td>\n",
              "      <td>26.998124</td>\n",
              "      <td>15.221732</td>\n",
              "      <td>2.000000</td>\n",
              "      <td>11.000000</td>\n",
              "      <td>32.000000</td>\n",
              "      <td>34.000000</td>\n",
              "      <td>78.000000</td>\n",
              "    </tr>\n",
              "    <tr>\n",
              "      <th>SPD</th>\n",
              "      <td>532.0</td>\n",
              "      <td>20.396617</td>\n",
              "      <td>5.560371</td>\n",
              "      <td>10.000000</td>\n",
              "      <td>16.000000</td>\n",
              "      <td>20.000000</td>\n",
              "      <td>23.250000</td>\n",
              "      <td>41.000000</td>\n",
              "    </tr>\n",
              "    <tr>\n",
              "      <th>MAX</th>\n",
              "      <td>118566.0</td>\n",
              "      <td>81.003745</td>\n",
              "      <td>14.869361</td>\n",
              "      <td>-28.000000</td>\n",
              "      <td>78.000000</td>\n",
              "      <td>85.000000</td>\n",
              "      <td>89.000000</td>\n",
              "      <td>122.000000</td>\n",
              "    </tr>\n",
              "    <tr>\n",
              "      <th>MIN</th>\n",
              "      <td>118572.0</td>\n",
              "      <td>64.273808</td>\n",
              "      <td>14.481498</td>\n",
              "      <td>-37.000000</td>\n",
              "      <td>59.000000</td>\n",
              "      <td>70.000000</td>\n",
              "      <td>74.000000</td>\n",
              "      <td>94.000000</td>\n",
              "    </tr>\n",
              "    <tr>\n",
              "      <th>MEA</th>\n",
              "      <td>118542.0</td>\n",
              "      <td>72.644843</td>\n",
              "      <td>14.211082</td>\n",
              "      <td>-32.000000</td>\n",
              "      <td>69.000000</td>\n",
              "      <td>78.000000</td>\n",
              "      <td>81.000000</td>\n",
              "      <td>104.000000</td>\n",
              "    </tr>\n",
              "    <tr>\n",
              "      <th>SND</th>\n",
              "      <td>5563.0</td>\n",
              "      <td>0.000000</td>\n",
              "      <td>0.000000</td>\n",
              "      <td>0.000000</td>\n",
              "      <td>0.000000</td>\n",
              "      <td>0.000000</td>\n",
              "      <td>0.000000</td>\n",
              "      <td>0.000000</td>\n",
              "    </tr>\n",
              "    <tr>\n",
              "      <th>FT</th>\n",
              "      <td>0.0</td>\n",
              "      <td>NaN</td>\n",
              "      <td>NaN</td>\n",
              "      <td>NaN</td>\n",
              "      <td>NaN</td>\n",
              "      <td>NaN</td>\n",
              "      <td>NaN</td>\n",
              "      <td>NaN</td>\n",
              "    </tr>\n",
              "    <tr>\n",
              "      <th>FB</th>\n",
              "      <td>0.0</td>\n",
              "      <td>NaN</td>\n",
              "      <td>NaN</td>\n",
              "      <td>NaN</td>\n",
              "      <td>NaN</td>\n",
              "      <td>NaN</td>\n",
              "      <td>NaN</td>\n",
              "      <td>NaN</td>\n",
              "    </tr>\n",
              "    <tr>\n",
              "      <th>FTI</th>\n",
              "      <td>0.0</td>\n",
              "      <td>NaN</td>\n",
              "      <td>NaN</td>\n",
              "      <td>NaN</td>\n",
              "      <td>NaN</td>\n",
              "      <td>NaN</td>\n",
              "      <td>NaN</td>\n",
              "      <td>NaN</td>\n",
              "    </tr>\n",
              "    <tr>\n",
              "      <th>ITH</th>\n",
              "      <td>0.0</td>\n",
              "      <td>NaN</td>\n",
              "      <td>NaN</td>\n",
              "      <td>NaN</td>\n",
              "      <td>NaN</td>\n",
              "      <td>NaN</td>\n",
              "      <td>NaN</td>\n",
              "      <td>NaN</td>\n",
              "    </tr>\n",
              "    <tr>\n",
              "      <th>PGT</th>\n",
              "      <td>525.0</td>\n",
              "      <td>12.085333</td>\n",
              "      <td>5.731328</td>\n",
              "      <td>0.000000</td>\n",
              "      <td>8.500000</td>\n",
              "      <td>11.600000</td>\n",
              "      <td>15.000000</td>\n",
              "      <td>23.900000</td>\n",
              "    </tr>\n",
              "    <tr>\n",
              "      <th>SD3</th>\n",
              "      <td>0.0</td>\n",
              "      <td>NaN</td>\n",
              "      <td>NaN</td>\n",
              "      <td>NaN</td>\n",
              "      <td>NaN</td>\n",
              "      <td>NaN</td>\n",
              "      <td>NaN</td>\n",
              "      <td>NaN</td>\n",
              "    </tr>\n",
              "    <tr>\n",
              "      <th>RHX</th>\n",
              "      <td>0.0</td>\n",
              "      <td>NaN</td>\n",
              "      <td>NaN</td>\n",
              "      <td>NaN</td>\n",
              "      <td>NaN</td>\n",
              "      <td>NaN</td>\n",
              "      <td>NaN</td>\n",
              "      <td>NaN</td>\n",
              "    </tr>\n",
              "    <tr>\n",
              "      <th>RHN</th>\n",
              "      <td>0.0</td>\n",
              "      <td>NaN</td>\n",
              "      <td>NaN</td>\n",
              "      <td>NaN</td>\n",
              "      <td>NaN</td>\n",
              "      <td>NaN</td>\n",
              "      <td>NaN</td>\n",
              "      <td>NaN</td>\n",
              "    </tr>\n",
              "    <tr>\n",
              "      <th>RVG</th>\n",
              "      <td>0.0</td>\n",
              "      <td>NaN</td>\n",
              "      <td>NaN</td>\n",
              "      <td>NaN</td>\n",
              "      <td>NaN</td>\n",
              "      <td>NaN</td>\n",
              "      <td>NaN</td>\n",
              "      <td>NaN</td>\n",
              "    </tr>\n",
              "    <tr>\n",
              "      <th>WTE</th>\n",
              "      <td>0.0</td>\n",
              "      <td>NaN</td>\n",
              "      <td>NaN</td>\n",
              "      <td>NaN</td>\n",
              "      <td>NaN</td>\n",
              "      <td>NaN</td>\n",
              "      <td>NaN</td>\n",
              "      <td>NaN</td>\n",
              "    </tr>\n",
              "  </tbody>\n",
              "</table>\n",
              "</div>"
            ],
            "text/plain": [
              "                count          mean           std           min           25%  \\\n",
              "STA          119040.0  29659.435795  20953.209402  10001.000000  11801.000000   \n",
              "WindGustSpd     532.0     37.774534     10.297808     18.520000     29.632000   \n",
              "MaxTemp      119040.0     27.045111      8.717817    -33.333333     25.555556   \n",
              "MinTemp      119040.0     17.789511      8.334572    -38.333333     15.000000   \n",
              "MeanTemp     119040.0     22.411631      8.297982    -35.555556     20.555556   \n",
              "YR           119040.0     43.805284      1.136718     40.000000     43.000000   \n",
              "MO           119040.0      6.726016      3.425561      1.000000      4.000000   \n",
              "DA           119040.0     15.797530      8.794541      1.000000      8.000000   \n",
              "DR              533.0     26.998124     15.221732      2.000000     11.000000   \n",
              "SPD             532.0     20.396617      5.560371     10.000000     16.000000   \n",
              "MAX          118566.0     81.003745     14.869361    -28.000000     78.000000   \n",
              "MIN          118572.0     64.273808     14.481498    -37.000000     59.000000   \n",
              "MEA          118542.0     72.644843     14.211082    -32.000000     69.000000   \n",
              "SND            5563.0      0.000000      0.000000      0.000000      0.000000   \n",
              "FT                0.0           NaN           NaN           NaN           NaN   \n",
              "FB                0.0           NaN           NaN           NaN           NaN   \n",
              "FTI               0.0           NaN           NaN           NaN           NaN   \n",
              "ITH               0.0           NaN           NaN           NaN           NaN   \n",
              "PGT             525.0     12.085333      5.731328      0.000000      8.500000   \n",
              "SD3               0.0           NaN           NaN           NaN           NaN   \n",
              "RHX               0.0           NaN           NaN           NaN           NaN   \n",
              "RHN               0.0           NaN           NaN           NaN           NaN   \n",
              "RVG               0.0           NaN           NaN           NaN           NaN   \n",
              "WTE               0.0           NaN           NaN           NaN           NaN   \n",
              "\n",
              "                      50%           75%           max  \n",
              "STA          22508.000000  33501.000000  82506.000000  \n",
              "WindGustSpd     37.040000     43.059000     75.932000  \n",
              "MaxTemp         29.444444     31.666667     50.000000  \n",
              "MinTemp         21.111111     23.333333     34.444444  \n",
              "MeanTemp        25.555556     27.222222     40.000000  \n",
              "YR              44.000000     45.000000     45.000000  \n",
              "MO               7.000000     10.000000     12.000000  \n",
              "DA              16.000000     23.000000     31.000000  \n",
              "DR              32.000000     34.000000     78.000000  \n",
              "SPD             20.000000     23.250000     41.000000  \n",
              "MAX             85.000000     89.000000    122.000000  \n",
              "MIN             70.000000     74.000000     94.000000  \n",
              "MEA             78.000000     81.000000    104.000000  \n",
              "SND              0.000000      0.000000      0.000000  \n",
              "FT                    NaN           NaN           NaN  \n",
              "FB                    NaN           NaN           NaN  \n",
              "FTI                   NaN           NaN           NaN  \n",
              "ITH                   NaN           NaN           NaN  \n",
              "PGT             11.600000     15.000000     23.900000  \n",
              "SD3                   NaN           NaN           NaN  \n",
              "RHX                   NaN           NaN           NaN  \n",
              "RHN                   NaN           NaN           NaN  \n",
              "RVG                   NaN           NaN           NaN  \n",
              "WTE                   NaN           NaN           NaN  "
            ]
          },
          "metadata": {
            "tags": []
          },
          "execution_count": 5
        }
      ]
    },
    {
      "cell_type": "code",
      "metadata": {
        "scrolled": true,
        "id": "Gv2r7j701Zxi",
        "colab_type": "code",
        "colab": {},
        "outputId": "a3db858b-e356-4a29-80b4-bcfe83e42fb3"
      },
      "source": [
        "# let’s plot our data points on a 2-D graph to eyeball our dataset and see if we can manually find any relationship\n",
        "# between the data. We have taken MinTemp and MaxTemp for doing our analysis.\n",
        "# Below is a 2-D graph between MinTemp and MaxTemp.\n",
        "\n",
        "dataset.plot(x='MinTemp', y='MaxTemp', style='o')  \n",
        "plt.title('MinTemp vs MaxTemp')  \n",
        "plt.xlabel('MinTemp')  \n",
        "plt.ylabel('MaxTemp')  \n",
        "plt.show()"
      ],
      "execution_count": 0,
      "outputs": [
        {
          "output_type": "display_data",
          "data": {
            "image/png": "[encoded data removed]",
            "text/plain": [
              "<Figure size 432x288 with 1 Axes>"
            ]
          },
          "metadata": {
            "tags": [],
            "needs_background": "light"
          }
        }
      ]
    },
    {
      "cell_type": "code",
      "metadata": {
        "id": "qTXVXmOC1Zxn",
        "colab_type": "code",
        "colab": {},
        "outputId": "97d1921e-3982-42c9-86a0-665e35571d13"
      },
      "source": [
        "# Let’s check the average max temperature and once we plot it, we can observe that \n",
        "# the Average Maximum Temperature is Between Nearly 25 and 35.\n",
        "\n",
        "plt.figure(figsize=(15,10))\n",
        "plt.tight_layout()\n",
        "seabornInstance.distplot(dataset['MaxTemp'])"
      ],
      "execution_count": 0,
      "outputs": [
        {
          "output_type": "execute_result",
          "data": {
            "text/plain": [
              "<matplotlib.axes._subplots.AxesSubplot at 0x193ed762b38>"
            ]
          },
          "metadata": {
            "tags": []
          },
          "execution_count": 7
        },
        {
          "output_type": "display_data",
          "data": {
            "image/png": "[encoded data removed]",
            "text/plain": [
              "<Figure size 1080x720 with 1 Axes>"
            ]
          },
          "metadata": {
            "tags": [],
            "needs_background": "light"
          }
        }
      ]
    },
    {
      "cell_type": "code",
      "metadata": {
        "id": "b5FMIMk51Zxt",
        "colab_type": "code",
        "colab": {}
      },
      "source": [
        "# Our next step is to divide the data into “attributes” and “labels”.\n",
        "# Attributes are the independent variables while labels are dependent variables whose values are to be predicted.\n",
        "# In our dataset, we only have two columns. We want to predict the MaxTemp depending upon the MinTemp recorded.\n",
        "# Therefore our attribute set will consist of the “MinTemp” column which is stored in the X variable, \n",
        "# and the label will be the “MaxTemp” column which is stored in y variable.\n",
        "\n",
        "X = dataset['MinTemp'].values.reshape(-1,1)\n",
        "y = dataset['MaxTemp'].values.reshape(-1,1)"
      ],
      "execution_count": 0,
      "outputs": []
    },
    {
      "cell_type": "code",
      "metadata": {
        "id": "8EiZUH_a1Zxx",
        "colab_type": "code",
        "colab": {},
        "outputId": "8c6d46f9-467d-4bfe-e216-124b4412b5ec"
      },
      "source": [
        "print(X)"
      ],
      "execution_count": 0,
      "outputs": [
        {
          "output_type": "stream",
          "text": [
            "[[22.22222222]\n",
            " [21.66666667]\n",
            " [22.22222222]\n",
            " ...\n",
            " [18.33333333]\n",
            " [18.33333333]\n",
            " [17.22222222]]\n"
          ],
          "name": "stdout"
        }
      ]
    },
    {
      "cell_type": "code",
      "metadata": {
        "id": "01AG92Jt1Zx2",
        "colab_type": "code",
        "colab": {},
        "outputId": "3d6c5c39-f074-4ff3-844f-ef68a5e69ee8"
      },
      "source": [
        "print(y)"
      ],
      "execution_count": 0,
      "outputs": [
        {
          "output_type": "stream",
          "text": [
            "[[25.55555556]\n",
            " [28.88888889]\n",
            " [26.11111111]\n",
            " ...\n",
            " [28.33333333]\n",
            " [28.33333333]\n",
            " [29.44444444]]\n"
          ],
          "name": "stdout"
        }
      ]
    },
    {
      "cell_type": "code",
      "metadata": {
        "id": "kWMc771S1Zx7",
        "colab_type": "code",
        "colab": {}
      },
      "source": [
        "# Next, we split 80% of the data to the training set while 20% of the data to test set using below code.\n",
        "# The test_size variable is where we actually specify the proportion of the test set.\n",
        "\n",
        "X_train, X_test, y_train, y_test = train_test_split(X, y, test_size=0.2, random_state=0)"
      ],
      "execution_count": 0,
      "outputs": []
    },
    {
      "cell_type": "code",
      "metadata": {
        "id": "gp-vSsyf1Zx_",
        "colab_type": "code",
        "colab": {},
        "outputId": "c2422f58-519c-4864-fc4d-a5c972da3aca"
      },
      "source": [
        "# After splitting the data into training and testing sets, finally, the time is to train our algorithm.\n",
        "# For that, we need to\n",
        "# import LinearRegression class, \n",
        "# instantiate it, \n",
        "# and call the fit() method along with our training data.\n",
        "\n",
        "regressor = LinearRegression()  \n",
        "regressor.fit(X_train, y_train) #training the algorithm"
      ],
      "execution_count": 0,
      "outputs": [
        {
          "output_type": "execute_result",
          "data": {
            "text/plain": [
              "LinearRegression(copy_X=True, fit_intercept=True, n_jobs=None,\n",
              "         normalize=False)"
            ]
          },
          "metadata": {
            "tags": []
          },
          "execution_count": 12
        }
      ]
    },
    {
      "cell_type": "code",
      "metadata": {
        "id": "8PuDL0Tx1ZyD",
        "colab_type": "code",
        "colab": {},
        "outputId": "1dc072f1-207b-4147-d2ba-a882cbfb844b"
      },
      "source": [
        "# To retrieve the intercept:\n",
        "\n",
        "print(regressor.intercept_)\n",
        "\n",
        "#For retrieving the slope:\n",
        "\n",
        "print(regressor.coef_)"
      ],
      "execution_count": 0,
      "outputs": [
        {
          "output_type": "stream",
          "text": [
            "[10.66185201]\n",
            "[[0.92033997]]\n"
          ],
          "name": "stdout"
        }
      ]
    },
    {
      "cell_type": "code",
      "metadata": {
        "id": "vVQYn_tp1ZyH",
        "colab_type": "code",
        "colab": {}
      },
      "source": [
        "# Now that we have trained our algorithm, it’s time to make some predictions. \n",
        "# To do so, we will use our test data and see how accurately our algorithm predicts the percentage score. \n",
        "# To make predictions on the test data, execute the following script:\n",
        "\n",
        "y_pred = regressor.predict(X_test)"
      ],
      "execution_count": 0,
      "outputs": []
    },
    {
      "cell_type": "code",
      "metadata": {
        "id": "ysEAvlzc1ZyL",
        "colab_type": "code",
        "colab": {},
        "outputId": "f343b61a-5a3d-4262-8547-24f1bf9f6618"
      },
      "source": [
        "# Now compare the actual output values for X_test with the predicted values, execute the following script:\n",
        "\n",
        "df = pd.DataFrame({'Actual': y_test.flatten(), 'Predicted': y_pred.flatten()})\n",
        "df"
      ],
      "execution_count": 0,
      "outputs": [
        {
          "output_type": "execute_result",
          "data": {
            "text/html": [
              "<div>\n",
              "<style scoped>\n",
              "    .dataframe tbody tr th:only-of-type {\n",
              "        vertical-align: middle;\n",
              "    }\n",
              "\n",
              "    .dataframe tbody tr th {\n",
              "        vertical-align: top;\n",
              "    }\n",
              "\n",
              "    .dataframe thead th {\n",
              "        text-align: right;\n",
              "    }\n",
              "</style>\n",
              "<table border=\"1\" class=\"dataframe\">\n",
              "  <thead>\n",
              "    <tr style=\"text-align: right;\">\n",
              "      <th></th>\n",
              "      <th>Actual</th>\n",
              "      <th>Predicted</th>\n",
              "    </tr>\n",
              "  </thead>\n",
              "  <tbody>\n",
              "    <tr>\n",
              "      <th>0</th>\n",
              "      <td>28.888889</td>\n",
              "      <td>33.670351</td>\n",
              "    </tr>\n",
              "    <tr>\n",
              "      <th>1</th>\n",
              "      <td>31.111111</td>\n",
              "      <td>30.091251</td>\n",
              "    </tr>\n",
              "    <tr>\n",
              "      <th>2</th>\n",
              "      <td>27.222222</td>\n",
              "      <td>26.512151</td>\n",
              "    </tr>\n",
              "    <tr>\n",
              "      <th>3</th>\n",
              "      <td>28.888889</td>\n",
              "      <td>31.113851</td>\n",
              "    </tr>\n",
              "    <tr>\n",
              "      <th>4</th>\n",
              "      <td>23.333333</td>\n",
              "      <td>15.774852</td>\n",
              "    </tr>\n",
              "    <tr>\n",
              "      <th>5</th>\n",
              "      <td>37.222222</td>\n",
              "      <td>30.602551</td>\n",
              "    </tr>\n",
              "    <tr>\n",
              "      <th>6</th>\n",
              "      <td>22.222222</td>\n",
              "      <td>11.684452</td>\n",
              "    </tr>\n",
              "    <tr>\n",
              "      <th>7</th>\n",
              "      <td>35.555556</td>\n",
              "      <td>33.670351</td>\n",
              "    </tr>\n",
              "    <tr>\n",
              "      <th>8</th>\n",
              "      <td>30.555556</td>\n",
              "      <td>30.602551</td>\n",
              "    </tr>\n",
              "    <tr>\n",
              "      <th>9</th>\n",
              "      <td>28.888889</td>\n",
              "      <td>32.647751</td>\n",
              "    </tr>\n",
              "    <tr>\n",
              "      <th>10</th>\n",
              "      <td>24.444444</td>\n",
              "      <td>29.068651</td>\n",
              "    </tr>\n",
              "    <tr>\n",
              "      <th>11</th>\n",
              "      <td>22.777778</td>\n",
              "      <td>23.955652</td>\n",
              "    </tr>\n",
              "    <tr>\n",
              "      <th>12</th>\n",
              "      <td>30.555556</td>\n",
              "      <td>30.091251</td>\n",
              "    </tr>\n",
              "    <tr>\n",
              "      <th>13</th>\n",
              "      <td>26.111111</td>\n",
              "      <td>26.000851</td>\n",
              "    </tr>\n",
              "    <tr>\n",
              "      <th>14</th>\n",
              "      <td>27.222222</td>\n",
              "      <td>29.068651</td>\n",
              "    </tr>\n",
              "    <tr>\n",
              "      <th>15</th>\n",
              "      <td>30.555556</td>\n",
              "      <td>32.647751</td>\n",
              "    </tr>\n",
              "    <tr>\n",
              "      <th>16</th>\n",
              "      <td>10.555556</td>\n",
              "      <td>15.774852</td>\n",
              "    </tr>\n",
              "    <tr>\n",
              "      <th>17</th>\n",
              "      <td>32.222222</td>\n",
              "      <td>32.136451</td>\n",
              "    </tr>\n",
              "    <tr>\n",
              "      <th>18</th>\n",
              "      <td>29.444444</td>\n",
              "      <td>29.579951</td>\n",
              "    </tr>\n",
              "    <tr>\n",
              "      <th>19</th>\n",
              "      <td>23.333333</td>\n",
              "      <td>18.842652</td>\n",
              "    </tr>\n",
              "    <tr>\n",
              "      <th>20</th>\n",
              "      <td>30.555556</td>\n",
              "      <td>26.000851</td>\n",
              "    </tr>\n",
              "    <tr>\n",
              "      <th>21</th>\n",
              "      <td>43.333333</td>\n",
              "      <td>31.113851</td>\n",
              "    </tr>\n",
              "    <tr>\n",
              "      <th>22</th>\n",
              "      <td>27.222222</td>\n",
              "      <td>30.091251</td>\n",
              "    </tr>\n",
              "    <tr>\n",
              "      <th>23</th>\n",
              "      <td>33.333333</td>\n",
              "      <td>33.159051</td>\n",
              "    </tr>\n",
              "    <tr>\n",
              "      <th>24</th>\n",
              "      <td>31.111111</td>\n",
              "      <td>22.421752</td>\n",
              "    </tr>\n",
              "    <tr>\n",
              "      <th>25</th>\n",
              "      <td>30.000000</td>\n",
              "      <td>31.113851</td>\n",
              "    </tr>\n",
              "    <tr>\n",
              "      <th>26</th>\n",
              "      <td>33.333333</td>\n",
              "      <td>30.602551</td>\n",
              "    </tr>\n",
              "    <tr>\n",
              "      <th>27</th>\n",
              "      <td>31.111111</td>\n",
              "      <td>30.602551</td>\n",
              "    </tr>\n",
              "    <tr>\n",
              "      <th>28</th>\n",
              "      <td>33.333333</td>\n",
              "      <td>35.204251</td>\n",
              "    </tr>\n",
              "    <tr>\n",
              "      <th>29</th>\n",
              "      <td>36.111111</td>\n",
              "      <td>30.091251</td>\n",
              "    </tr>\n",
              "    <tr>\n",
              "      <th>...</th>\n",
              "      <td>...</td>\n",
              "      <td>...</td>\n",
              "    </tr>\n",
              "    <tr>\n",
              "      <th>23778</th>\n",
              "      <td>4.444444</td>\n",
              "      <td>9.639252</td>\n",
              "    </tr>\n",
              "    <tr>\n",
              "      <th>23779</th>\n",
              "      <td>31.111111</td>\n",
              "      <td>32.136451</td>\n",
              "    </tr>\n",
              "    <tr>\n",
              "      <th>23780</th>\n",
              "      <td>30.000000</td>\n",
              "      <td>32.136451</td>\n",
              "    </tr>\n",
              "    <tr>\n",
              "      <th>23781</th>\n",
              "      <td>34.444444</td>\n",
              "      <td>30.091251</td>\n",
              "    </tr>\n",
              "    <tr>\n",
              "      <th>23782</th>\n",
              "      <td>28.888889</td>\n",
              "      <td>32.647751</td>\n",
              "    </tr>\n",
              "    <tr>\n",
              "      <th>23783</th>\n",
              "      <td>32.222222</td>\n",
              "      <td>29.068651</td>\n",
              "    </tr>\n",
              "    <tr>\n",
              "      <th>23784</th>\n",
              "      <td>25.000000</td>\n",
              "      <td>15.774852</td>\n",
              "    </tr>\n",
              "    <tr>\n",
              "      <th>23785</th>\n",
              "      <td>26.666667</td>\n",
              "      <td>30.091251</td>\n",
              "    </tr>\n",
              "    <tr>\n",
              "      <th>23786</th>\n",
              "      <td>35.000000</td>\n",
              "      <td>32.136451</td>\n",
              "    </tr>\n",
              "    <tr>\n",
              "      <th>23787</th>\n",
              "      <td>15.000000</td>\n",
              "      <td>12.195752</td>\n",
              "    </tr>\n",
              "    <tr>\n",
              "      <th>23788</th>\n",
              "      <td>19.444444</td>\n",
              "      <td>22.421752</td>\n",
              "    </tr>\n",
              "    <tr>\n",
              "      <th>23789</th>\n",
              "      <td>15.000000</td>\n",
              "      <td>19.865252</td>\n",
              "    </tr>\n",
              "    <tr>\n",
              "      <th>23790</th>\n",
              "      <td>33.333333</td>\n",
              "      <td>25.489551</td>\n",
              "    </tr>\n",
              "    <tr>\n",
              "      <th>23791</th>\n",
              "      <td>27.777778</td>\n",
              "      <td>26.000851</td>\n",
              "    </tr>\n",
              "    <tr>\n",
              "      <th>23792</th>\n",
              "      <td>31.666667</td>\n",
              "      <td>30.091251</td>\n",
              "    </tr>\n",
              "    <tr>\n",
              "      <th>23793</th>\n",
              "      <td>31.666667</td>\n",
              "      <td>31.625151</td>\n",
              "    </tr>\n",
              "    <tr>\n",
              "      <th>23794</th>\n",
              "      <td>29.444444</td>\n",
              "      <td>31.113851</td>\n",
              "    </tr>\n",
              "    <tr>\n",
              "      <th>23795</th>\n",
              "      <td>29.444444</td>\n",
              "      <td>33.670351</td>\n",
              "    </tr>\n",
              "    <tr>\n",
              "      <th>23796</th>\n",
              "      <td>16.666667</td>\n",
              "      <td>17.820052</td>\n",
              "    </tr>\n",
              "    <tr>\n",
              "      <th>23797</th>\n",
              "      <td>20.000000</td>\n",
              "      <td>21.399152</td>\n",
              "    </tr>\n",
              "    <tr>\n",
              "      <th>23798</th>\n",
              "      <td>28.888889</td>\n",
              "      <td>32.136451</td>\n",
              "    </tr>\n",
              "    <tr>\n",
              "      <th>23799</th>\n",
              "      <td>31.111111</td>\n",
              "      <td>30.091251</td>\n",
              "    </tr>\n",
              "    <tr>\n",
              "      <th>23800</th>\n",
              "      <td>44.444444</td>\n",
              "      <td>35.715551</td>\n",
              "    </tr>\n",
              "    <tr>\n",
              "      <th>23801</th>\n",
              "      <td>36.666667</td>\n",
              "      <td>36.226851</td>\n",
              "    </tr>\n",
              "    <tr>\n",
              "      <th>23802</th>\n",
              "      <td>29.444444</td>\n",
              "      <td>33.159051</td>\n",
              "    </tr>\n",
              "    <tr>\n",
              "      <th>23803</th>\n",
              "      <td>32.777778</td>\n",
              "      <td>32.136451</td>\n",
              "    </tr>\n",
              "    <tr>\n",
              "      <th>23804</th>\n",
              "      <td>32.222222</td>\n",
              "      <td>29.068651</td>\n",
              "    </tr>\n",
              "    <tr>\n",
              "      <th>23805</th>\n",
              "      <td>31.111111</td>\n",
              "      <td>32.647751</td>\n",
              "    </tr>\n",
              "    <tr>\n",
              "      <th>23806</th>\n",
              "      <td>31.111111</td>\n",
              "      <td>30.602551</td>\n",
              "    </tr>\n",
              "    <tr>\n",
              "      <th>23807</th>\n",
              "      <td>36.666667</td>\n",
              "      <td>31.625151</td>\n",
              "    </tr>\n",
              "  </tbody>\n",
              "</table>\n",
              "<p>23808 rows × 2 columns</p>\n",
              "</div>"
            ],
            "text/plain": [
              "          Actual  Predicted\n",
              "0      28.888889  33.670351\n",
              "1      31.111111  30.091251\n",
              "2      27.222222  26.512151\n",
              "3      28.888889  31.113851\n",
              "4      23.333333  15.774852\n",
              "5      37.222222  30.602551\n",
              "6      22.222222  11.684452\n",
              "7      35.555556  33.670351\n",
              "8      30.555556  30.602551\n",
              "9      28.888889  32.647751\n",
              "10     24.444444  29.068651\n",
              "11     22.777778  23.955652\n",
              "12     30.555556  30.091251\n",
              "13     26.111111  26.000851\n",
              "14     27.222222  29.068651\n",
              "15     30.555556  32.647751\n",
              "16     10.555556  15.774852\n",
              "17     32.222222  32.136451\n",
              "18     29.444444  29.579951\n",
              "19     23.333333  18.842652\n",
              "20     30.555556  26.000851\n",
              "21     43.333333  31.113851\n",
              "22     27.222222  30.091251\n",
              "23     33.333333  33.159051\n",
              "24     31.111111  22.421752\n",
              "25     30.000000  31.113851\n",
              "26     33.333333  30.602551\n",
              "27     31.111111  30.602551\n",
              "28     33.333333  35.204251\n",
              "29     36.111111  30.091251\n",
              "...          ...        ...\n",
              "23778   4.444444   9.639252\n",
              "23779  31.111111  32.136451\n",
              "23780  30.000000  32.136451\n",
              "23781  34.444444  30.091251\n",
              "23782  28.888889  32.647751\n",
              "23783  32.222222  29.068651\n",
              "23784  25.000000  15.774852\n",
              "23785  26.666667  30.091251\n",
              "23786  35.000000  32.136451\n",
              "23787  15.000000  12.195752\n",
              "23788  19.444444  22.421752\n",
              "23789  15.000000  19.865252\n",
              "23790  33.333333  25.489551\n",
              "23791  27.777778  26.000851\n",
              "23792  31.666667  30.091251\n",
              "23793  31.666667  31.625151\n",
              "23794  29.444444  31.113851\n",
              "23795  29.444444  33.670351\n",
              "23796  16.666667  17.820052\n",
              "23797  20.000000  21.399152\n",
              "23798  28.888889  32.136451\n",
              "23799  31.111111  30.091251\n",
              "23800  44.444444  35.715551\n",
              "23801  36.666667  36.226851\n",
              "23802  29.444444  33.159051\n",
              "23803  32.777778  32.136451\n",
              "23804  32.222222  29.068651\n",
              "23805  31.111111  32.647751\n",
              "23806  31.111111  30.602551\n",
              "23807  36.666667  31.625151\n",
              "\n",
              "[23808 rows x 2 columns]"
            ]
          },
          "metadata": {
            "tags": []
          },
          "execution_count": 15
        }
      ]
    },
    {
      "cell_type": "code",
      "metadata": {
        "id": "akdnbM931ZyP",
        "colab_type": "code",
        "colab": {},
        "outputId": "14a567f4-a0e7-4659-c147-ec54c6d3eb0c"
      },
      "source": [
        "# We can also visualize comparison result as a bar graph using the below script :\n",
        "# Note: As the number of records is huge, for representation purpose I’m taking just 25 records.\n",
        "\n",
        "df1 = df.head(25)\n",
        "df1.plot(kind='bar',figsize=(16,10))\n",
        "plt.grid(which='major', linestyle='-', linewidth='0.5', color='green')\n",
        "plt.grid(which='minor', linestyle=':', linewidth='0.5', color='black')\n",
        "plt.show()"
      ],
      "execution_count": 0,
      "outputs": [
        {
          "output_type": "display_data",
          "data": {
            "image/png": "[encoded data removed]",
            "text/plain": [
              "<Figure size 1152x720 with 1 Axes>"
            ]
          },
          "metadata": {
            "tags": [],
            "needs_background": "light"
          }
        }
      ]
    },
    {
      "cell_type": "code",
      "metadata": {
        "id": "v_5DdcIG1ZyV",
        "colab_type": "code",
        "colab": {},
        "outputId": "2d84448c-b4a3-4dbb-e3f8-762d5a7e1b96"
      },
      "source": [
        "# Though our model is not very precise, the predicted percentages are close to the actual ones.\n",
        "# Let's plot our straight line with the test data :\n",
        "\n",
        "plt.scatter(X_test, y_test,  color='gray')\n",
        "plt.plot(X_test, y_pred, color='red', linewidth=2)\n",
        "plt.show()"
      ],
      "execution_count": 0,
      "outputs": [
        {
          "output_type": "display_data",
          "data": {
            "image/png": "[encoded data removed]",
            "text/plain": [
              "<Figure size 432x288 with 1 Axes>"
            ]
          },
          "metadata": {
            "tags": [],
            "needs_background": "light"
          }
        }
      ]
    },
    {
      "cell_type": "code",
      "metadata": {
        "id": "3_sqbGWC1ZyY",
        "colab_type": "code",
        "colab": {}
      },
      "source": [
        "# The straight line in the above graph shows our algorithm is correct."
      ],
      "execution_count": 0,
      "outputs": []
    },
    {
      "cell_type": "markdown",
      "metadata": {
        "id": "VeAISfeT1Zyd",
        "colab_type": "text"
      },
      "source": [
        "The final step is to evaluate the performance of the algorithm.\n",
        "This step is particularly important to compare how well different algorithms perform on a particular dataset.\n",
        "For regression algorithms, three evaluation metrics are commonly used:\n",
        "    \n",
        "- Mean Absolute Error (MAE) is the mean of the absolute value of the errors. It is calculated as:\n",
        "\n",
        "$$MAE = \\frac{1}{n} \\sum_{i}^{n} \\left | y_i - \\hat{y}_i  \\right |$$\n",
        "\n",
        "- Mean Squared Error (MSE) is the mean of the squared errors and is calculated as:\n",
        "\n",
        "$$MSE = \\frac{1}{n} \\sum_{i}^{n} (y_i - \\hat{y}_i)^{2}$$\n",
        "\n",
        "- Root Mean Squared Error (RMSE) is the square root of the mean of the squared errors:\n",
        "\n",
        "$$RMSE = \\sqrt{\\frac{1}{n} \\sum_{i}^{n} (y_i - \\hat{y}_i)^{2}}$$"
      ]
    },
    {
      "cell_type": "code",
      "metadata": {
        "id": "lvE0Kbe11Zye",
        "colab_type": "code",
        "colab": {},
        "outputId": "b06313fe-50d7-457d-8de3-407c2eb77b57"
      },
      "source": [
        "# Let’s find the values for these metrics using our test data.\n",
        "\n",
        "print('Mean Absolute Error:', metrics.mean_absolute_error(y_test, y_pred))  \n",
        "print('Mean Squared Error:', metrics.mean_squared_error(y_test, y_pred))  \n",
        "print('Root Mean Squared Error:', np.sqrt(metrics.mean_squared_error(y_test, y_pred)))"
      ],
      "execution_count": 0,
      "outputs": [
        {
          "output_type": "stream",
          "text": [
            "Mean Absolute Error: 3.1993291783785285\n",
            "Mean Squared Error: 17.631568097568444\n",
            "Root Mean Squared Error: 4.198996082109204\n"
          ],
          "name": "stdout"
        }
      ]
    },
    {
      "cell_type": "markdown",
      "metadata": {
        "id": "XBzCKI6A1Zyh",
        "colab_type": "text"
      },
      "source": [
        "Conclusion:\n",
        "    \n",
        "You can see that the value of root mean squared error is 4.19, which is more than 10% of the mean value of the percentages of all the temperature i.e. 22.41. This means that our algorithm was not very accurate but can still make reasonably good predictions."
      ]
    },
    {
      "cell_type": "markdown",
      "metadata": {
        "id": "v03-795d1Zyj",
        "colab_type": "text"
      },
      "source": [
        "## Multiple Linear Regression"
      ]
    },
    {
      "cell_type": "markdown",
      "metadata": {
        "id": "a4UCg_aW1Zyk",
        "colab_type": "text"
      },
      "source": [
        "We just performed linear regression in the above section involving two variables. Almost all the real-world problems that you are going to encounter will have more than two variables. Linear regression involving multiple variables is called “multiple linear regression” or multivariate linear regression. The steps to perform multiple linear regression are almost similar to that of simple linear regression. The difference lies in the evaluation. You can use it to find out which factor has the highest impact on the predicted output and how different variables relate to each other."
      ]
    },
    {
      "cell_type": "markdown",
      "metadata": {
        "id": "RsUfQREk1Zyl",
        "colab_type": "text"
      },
      "source": [
        "In this section, I have downloaded red wine quality dataset. The dataset related to red variants of the Portuguese “Vinho Verde” wine. Due to privacy and logistic issues, only physicochemical (inputs) and sensory (the output) variables are available (e.g. there is no data about grape types, wine brand, wine selling price, etc.)."
      ]
    },
    {
      "cell_type": "markdown",
      "metadata": {
        "id": "o9UcKQC71Zym",
        "colab_type": "text"
      },
      "source": [
        "You can download the dataset from https://drive.google.com/open?id=195gkZ5cTZL11L308MHc7EyBbAoiB4xqf"
      ]
    },
    {
      "cell_type": "markdown",
      "metadata": {
        "id": "4lw61o3A1Zyn",
        "colab_type": "text"
      },
      "source": [
        "We will take into account various input features like fixed acidity, volatile acidity, citric acid, residual sugar, chlorides, free sulfur dioxide, total sulfur dioxide, density, pH, sulphates, alcohol. Based on these features we will predict the quality of the wine."
      ]
    },
    {
      "cell_type": "code",
      "metadata": {
        "id": "YLrzCbW21Zyo",
        "colab_type": "code",
        "colab": {}
      },
      "source": [
        "# Import all the required libraries"
      ],
      "execution_count": 0,
      "outputs": []
    },
    {
      "cell_type": "code",
      "metadata": {
        "id": "0Drqoc2D1Zyr",
        "colab_type": "code",
        "colab": {}
      },
      "source": [
        "dataset = pd.read_csv('winequality.csv')"
      ],
      "execution_count": 0,
      "outputs": []
    },
    {
      "cell_type": "code",
      "metadata": {
        "id": "ncoxHmXD1Zyv",
        "colab_type": "code",
        "colab": {},
        "outputId": "3b647b84-44c8-4114-e5ac-62dfd4db7f0b"
      },
      "source": [
        "# checking the number of rows and columns in our datasets.\n",
        "\n",
        "dataset.shape"
      ],
      "execution_count": 0,
      "outputs": [
        {
          "output_type": "execute_result",
          "data": {
            "text/plain": [
              "(1599, 12)"
            ]
          },
          "metadata": {
            "tags": []
          },
          "execution_count": 22
        }
      ]
    },
    {
      "cell_type": "code",
      "metadata": {
        "id": "NQiZr2vZ1Zyy",
        "colab_type": "code",
        "colab": {},
        "outputId": "45abe40a-3a18-4acd-c5ee-42c6e9ef0e75"
      },
      "source": [
        "dataset.head()"
      ],
      "execution_count": 0,
      "outputs": [
        {
          "output_type": "execute_result",
          "data": {
            "text/html": [
              "<div>\n",
              "<style scoped>\n",
              "    .dataframe tbody tr th:only-of-type {\n",
              "        vertical-align: middle;\n",
              "    }\n",
              "\n",
              "    .dataframe tbody tr th {\n",
              "        vertical-align: top;\n",
              "    }\n",
              "\n",
              "    .dataframe thead th {\n",
              "        text-align: right;\n",
              "    }\n",
              "</style>\n",
              "<table border=\"1\" class=\"dataframe\">\n",
              "  <thead>\n",
              "    <tr style=\"text-align: right;\">\n",
              "      <th></th>\n",
              "      <th>fixed acidity</th>\n",
              "      <th>volatile acidity</th>\n",
              "      <th>citric acid</th>\n",
              "      <th>residual sugar</th>\n",
              "      <th>chlorides</th>\n",
              "      <th>free sulfur dioxide</th>\n",
              "      <th>total sulfur dioxide</th>\n",
              "      <th>density</th>\n",
              "      <th>pH</th>\n",
              "      <th>sulphates</th>\n",
              "      <th>alcohol</th>\n",
              "      <th>quality</th>\n",
              "    </tr>\n",
              "  </thead>\n",
              "  <tbody>\n",
              "    <tr>\n",
              "      <th>0</th>\n",
              "      <td>7.4</td>\n",
              "      <td>0.70</td>\n",
              "      <td>0.00</td>\n",
              "      <td>1.9</td>\n",
              "      <td>0.076</td>\n",
              "      <td>11.0</td>\n",
              "      <td>34.0</td>\n",
              "      <td>0.9978</td>\n",
              "      <td>3.51</td>\n",
              "      <td>0.56</td>\n",
              "      <td>9.4</td>\n",
              "      <td>5</td>\n",
              "    </tr>\n",
              "    <tr>\n",
              "      <th>1</th>\n",
              "      <td>7.8</td>\n",
              "      <td>0.88</td>\n",
              "      <td>0.00</td>\n",
              "      <td>2.6</td>\n",
              "      <td>0.098</td>\n",
              "      <td>25.0</td>\n",
              "      <td>67.0</td>\n",
              "      <td>0.9968</td>\n",
              "      <td>3.20</td>\n",
              "      <td>0.68</td>\n",
              "      <td>9.8</td>\n",
              "      <td>5</td>\n",
              "    </tr>\n",
              "    <tr>\n",
              "      <th>2</th>\n",
              "      <td>7.8</td>\n",
              "      <td>0.76</td>\n",
              "      <td>0.04</td>\n",
              "      <td>2.3</td>\n",
              "      <td>0.092</td>\n",
              "      <td>15.0</td>\n",
              "      <td>54.0</td>\n",
              "      <td>0.9970</td>\n",
              "      <td>3.26</td>\n",
              "      <td>0.65</td>\n",
              "      <td>9.8</td>\n",
              "      <td>5</td>\n",
              "    </tr>\n",
              "    <tr>\n",
              "      <th>3</th>\n",
              "      <td>11.2</td>\n",
              "      <td>0.28</td>\n",
              "      <td>0.56</td>\n",
              "      <td>1.9</td>\n",
              "      <td>0.075</td>\n",
              "      <td>17.0</td>\n",
              "      <td>60.0</td>\n",
              "      <td>0.9980</td>\n",
              "      <td>3.16</td>\n",
              "      <td>0.58</td>\n",
              "      <td>9.8</td>\n",
              "      <td>6</td>\n",
              "    </tr>\n",
              "    <tr>\n",
              "      <th>4</th>\n",
              "      <td>7.4</td>\n",
              "      <td>0.70</td>\n",
              "      <td>0.00</td>\n",
              "      <td>1.9</td>\n",
              "      <td>0.076</td>\n",
              "      <td>11.0</td>\n",
              "      <td>34.0</td>\n",
              "      <td>0.9978</td>\n",
              "      <td>3.51</td>\n",
              "      <td>0.56</td>\n",
              "      <td>9.4</td>\n",
              "      <td>5</td>\n",
              "    </tr>\n",
              "  </tbody>\n",
              "</table>\n",
              "</div>"
            ],
            "text/plain": [
              "   fixed acidity  volatile acidity  citric acid  residual sugar  chlorides  \\\n",
              "0            7.4              0.70         0.00             1.9      0.076   \n",
              "1            7.8              0.88         0.00             2.6      0.098   \n",
              "2            7.8              0.76         0.04             2.3      0.092   \n",
              "3           11.2              0.28         0.56             1.9      0.075   \n",
              "4            7.4              0.70         0.00             1.9      0.076   \n",
              "\n",
              "   free sulfur dioxide  total sulfur dioxide  density    pH  sulphates  \\\n",
              "0                 11.0                  34.0   0.9978  3.51       0.56   \n",
              "1                 25.0                  67.0   0.9968  3.20       0.68   \n",
              "2                 15.0                  54.0   0.9970  3.26       0.65   \n",
              "3                 17.0                  60.0   0.9980  3.16       0.58   \n",
              "4                 11.0                  34.0   0.9978  3.51       0.56   \n",
              "\n",
              "   alcohol  quality  \n",
              "0      9.4        5  \n",
              "1      9.8        5  \n",
              "2      9.8        5  \n",
              "3      9.8        6  \n",
              "4      9.4        5  "
            ]
          },
          "metadata": {
            "tags": []
          },
          "execution_count": 23
        }
      ]
    },
    {
      "cell_type": "code",
      "metadata": {
        "id": "96uXC3EZ1Zy2",
        "colab_type": "code",
        "colab": {},
        "outputId": "ff3935a3-652d-4099-c87d-c2c6d3ea47d3"
      },
      "source": [
        "dataset.describe().T"
      ],
      "execution_count": 0,
      "outputs": [
        {
          "output_type": "execute_result",
          "data": {
            "text/html": [
              "<div>\n",
              "<style scoped>\n",
              "    .dataframe tbody tr th:only-of-type {\n",
              "        vertical-align: middle;\n",
              "    }\n",
              "\n",
              "    .dataframe tbody tr th {\n",
              "        vertical-align: top;\n",
              "    }\n",
              "\n",
              "    .dataframe thead th {\n",
              "        text-align: right;\n",
              "    }\n",
              "</style>\n",
              "<table border=\"1\" class=\"dataframe\">\n",
              "  <thead>\n",
              "    <tr style=\"text-align: right;\">\n",
              "      <th></th>\n",
              "      <th>count</th>\n",
              "      <th>mean</th>\n",
              "      <th>std</th>\n",
              "      <th>min</th>\n",
              "      <th>25%</th>\n",
              "      <th>50%</th>\n",
              "      <th>75%</th>\n",
              "      <th>max</th>\n",
              "    </tr>\n",
              "  </thead>\n",
              "  <tbody>\n",
              "    <tr>\n",
              "      <th>fixed acidity</th>\n",
              "      <td>1599.0</td>\n",
              "      <td>8.319637</td>\n",
              "      <td>1.741096</td>\n",
              "      <td>4.60000</td>\n",
              "      <td>7.1000</td>\n",
              "      <td>7.90000</td>\n",
              "      <td>9.200000</td>\n",
              "      <td>15.90000</td>\n",
              "    </tr>\n",
              "    <tr>\n",
              "      <th>volatile acidity</th>\n",
              "      <td>1599.0</td>\n",
              "      <td>0.527821</td>\n",
              "      <td>0.179060</td>\n",
              "      <td>0.12000</td>\n",
              "      <td>0.3900</td>\n",
              "      <td>0.52000</td>\n",
              "      <td>0.640000</td>\n",
              "      <td>1.58000</td>\n",
              "    </tr>\n",
              "    <tr>\n",
              "      <th>citric acid</th>\n",
              "      <td>1599.0</td>\n",
              "      <td>0.270976</td>\n",
              "      <td>0.194801</td>\n",
              "      <td>0.00000</td>\n",
              "      <td>0.0900</td>\n",
              "      <td>0.26000</td>\n",
              "      <td>0.420000</td>\n",
              "      <td>1.00000</td>\n",
              "    </tr>\n",
              "    <tr>\n",
              "      <th>residual sugar</th>\n",
              "      <td>1599.0</td>\n",
              "      <td>2.538806</td>\n",
              "      <td>1.409928</td>\n",
              "      <td>0.90000</td>\n",
              "      <td>1.9000</td>\n",
              "      <td>2.20000</td>\n",
              "      <td>2.600000</td>\n",
              "      <td>15.50000</td>\n",
              "    </tr>\n",
              "    <tr>\n",
              "      <th>chlorides</th>\n",
              "      <td>1599.0</td>\n",
              "      <td>0.087467</td>\n",
              "      <td>0.047065</td>\n",
              "      <td>0.01200</td>\n",
              "      <td>0.0700</td>\n",
              "      <td>0.07900</td>\n",
              "      <td>0.090000</td>\n",
              "      <td>0.61100</td>\n",
              "    </tr>\n",
              "    <tr>\n",
              "      <th>free sulfur dioxide</th>\n",
              "      <td>1599.0</td>\n",
              "      <td>15.874922</td>\n",
              "      <td>10.460157</td>\n",
              "      <td>1.00000</td>\n",
              "      <td>7.0000</td>\n",
              "      <td>14.00000</td>\n",
              "      <td>21.000000</td>\n",
              "      <td>72.00000</td>\n",
              "    </tr>\n",
              "    <tr>\n",
              "      <th>total sulfur dioxide</th>\n",
              "      <td>1599.0</td>\n",
              "      <td>46.467792</td>\n",
              "      <td>32.895324</td>\n",
              "      <td>6.00000</td>\n",
              "      <td>22.0000</td>\n",
              "      <td>38.00000</td>\n",
              "      <td>62.000000</td>\n",
              "      <td>289.00000</td>\n",
              "    </tr>\n",
              "    <tr>\n",
              "      <th>density</th>\n",
              "      <td>1599.0</td>\n",
              "      <td>0.996747</td>\n",
              "      <td>0.001887</td>\n",
              "      <td>0.99007</td>\n",
              "      <td>0.9956</td>\n",
              "      <td>0.99675</td>\n",
              "      <td>0.997835</td>\n",
              "      <td>1.00369</td>\n",
              "    </tr>\n",
              "    <tr>\n",
              "      <th>pH</th>\n",
              "      <td>1599.0</td>\n",
              "      <td>3.311113</td>\n",
              "      <td>0.154386</td>\n",
              "      <td>2.74000</td>\n",
              "      <td>3.2100</td>\n",
              "      <td>3.31000</td>\n",
              "      <td>3.400000</td>\n",
              "      <td>4.01000</td>\n",
              "    </tr>\n",
              "    <tr>\n",
              "      <th>sulphates</th>\n",
              "      <td>1599.0</td>\n",
              "      <td>0.658149</td>\n",
              "      <td>0.169507</td>\n",
              "      <td>0.33000</td>\n",
              "      <td>0.5500</td>\n",
              "      <td>0.62000</td>\n",
              "      <td>0.730000</td>\n",
              "      <td>2.00000</td>\n",
              "    </tr>\n",
              "    <tr>\n",
              "      <th>alcohol</th>\n",
              "      <td>1599.0</td>\n",
              "      <td>10.422983</td>\n",
              "      <td>1.065668</td>\n",
              "      <td>8.40000</td>\n",
              "      <td>9.5000</td>\n",
              "      <td>10.20000</td>\n",
              "      <td>11.100000</td>\n",
              "      <td>14.90000</td>\n",
              "    </tr>\n",
              "    <tr>\n",
              "      <th>quality</th>\n",
              "      <td>1599.0</td>\n",
              "      <td>5.636023</td>\n",
              "      <td>0.807569</td>\n",
              "      <td>3.00000</td>\n",
              "      <td>5.0000</td>\n",
              "      <td>6.00000</td>\n",
              "      <td>6.000000</td>\n",
              "      <td>8.00000</td>\n",
              "    </tr>\n",
              "  </tbody>\n",
              "</table>\n",
              "</div>"
            ],
            "text/plain": [
              "                       count       mean        std      min      25%  \\\n",
              "fixed acidity         1599.0   8.319637   1.741096  4.60000   7.1000   \n",
              "volatile acidity      1599.0   0.527821   0.179060  0.12000   0.3900   \n",
              "citric acid           1599.0   0.270976   0.194801  0.00000   0.0900   \n",
              "residual sugar        1599.0   2.538806   1.409928  0.90000   1.9000   \n",
              "chlorides             1599.0   0.087467   0.047065  0.01200   0.0700   \n",
              "free sulfur dioxide   1599.0  15.874922  10.460157  1.00000   7.0000   \n",
              "total sulfur dioxide  1599.0  46.467792  32.895324  6.00000  22.0000   \n",
              "density               1599.0   0.996747   0.001887  0.99007   0.9956   \n",
              "pH                    1599.0   3.311113   0.154386  2.74000   3.2100   \n",
              "sulphates             1599.0   0.658149   0.169507  0.33000   0.5500   \n",
              "alcohol               1599.0  10.422983   1.065668  8.40000   9.5000   \n",
              "quality               1599.0   5.636023   0.807569  3.00000   5.0000   \n",
              "\n",
              "                           50%        75%        max  \n",
              "fixed acidity          7.90000   9.200000   15.90000  \n",
              "volatile acidity       0.52000   0.640000    1.58000  \n",
              "citric acid            0.26000   0.420000    1.00000  \n",
              "residual sugar         2.20000   2.600000   15.50000  \n",
              "chlorides              0.07900   0.090000    0.61100  \n",
              "free sulfur dioxide   14.00000  21.000000   72.00000  \n",
              "total sulfur dioxide  38.00000  62.000000  289.00000  \n",
              "density                0.99675   0.997835    1.00369  \n",
              "pH                     3.31000   3.400000    4.01000  \n",
              "sulphates              0.62000   0.730000    2.00000  \n",
              "alcohol               10.20000  11.100000   14.90000  \n",
              "quality                6.00000   6.000000    8.00000  "
            ]
          },
          "metadata": {
            "tags": []
          },
          "execution_count": 24
        }
      ]
    },
    {
      "cell_type": "code",
      "metadata": {
        "id": "GztZwd1h1Zy5",
        "colab_type": "code",
        "colab": {},
        "outputId": "6de80d61-80d6-4260-b2a5-2f299890cb8b"
      },
      "source": [
        "# Let us clean our data little bit, So first check which are the columns the contains NaN values in it :\n",
        "\n",
        "dataset.isnull().any()"
      ],
      "execution_count": 0,
      "outputs": [
        {
          "output_type": "execute_result",
          "data": {
            "text/plain": [
              "fixed acidity           False\n",
              "volatile acidity        False\n",
              "citric acid             False\n",
              "residual sugar          False\n",
              "chlorides               False\n",
              "free sulfur dioxide     False\n",
              "total sulfur dioxide    False\n",
              "density                 False\n",
              "pH                      False\n",
              "sulphates               False\n",
              "alcohol                 False\n",
              "quality                 False\n",
              "dtype: bool"
            ]
          },
          "metadata": {
            "tags": []
          },
          "execution_count": 25
        }
      ]
    },
    {
      "cell_type": "markdown",
      "metadata": {
        "id": "YeBk_8GY1Zy8",
        "colab_type": "text"
      },
      "source": [
        "Once the above code is executed, all the columns should give False, In case for any column you find True result, then remove all the null values from that column using below code."
      ]
    },
    {
      "cell_type": "code",
      "metadata": {
        "id": "mYtC3DRb1Zy-",
        "colab_type": "code",
        "colab": {}
      },
      "source": [
        "dataset = dataset.fillna(method='ffill')"
      ],
      "execution_count": 0,
      "outputs": []
    },
    {
      "cell_type": "code",
      "metadata": {
        "id": "keto4Orc1ZzB",
        "colab_type": "code",
        "colab": {}
      },
      "source": [
        "# Our next step is to divide the data into “attributes” and “labels”.\n",
        "# X variable contains all the attributes/features and y variable contains labels.\n",
        "\n",
        "X = dataset[['fixed acidity', \n",
        "             'volatile acidity', \n",
        "             'citric acid', \n",
        "             'residual sugar', \n",
        "             'chlorides', \n",
        "             'free sulfur dioxide', \n",
        "             'total sulfur dioxide', \n",
        "             'density', \n",
        "             'pH', \n",
        "             'sulphates',\n",
        "             'alcohol']].values\n",
        "\n",
        "y = dataset['quality'].values"
      ],
      "execution_count": 0,
      "outputs": []
    },
    {
      "cell_type": "code",
      "metadata": {
        "id": "ByQLtwzm1ZzC",
        "colab_type": "code",
        "colab": {},
        "outputId": "1279ffbd-5f5f-4ada-f9ef-2dd082b19246"
      },
      "source": [
        "X"
      ],
      "execution_count": 0,
      "outputs": [
        {
          "output_type": "execute_result",
          "data": {
            "text/plain": [
              "array([[ 7.4  ,  0.7  ,  0.   , ...,  3.51 ,  0.56 ,  9.4  ],\n",
              "       [ 7.8  ,  0.88 ,  0.   , ...,  3.2  ,  0.68 ,  9.8  ],\n",
              "       [ 7.8  ,  0.76 ,  0.04 , ...,  3.26 ,  0.65 ,  9.8  ],\n",
              "       ...,\n",
              "       [ 6.3  ,  0.51 ,  0.13 , ...,  3.42 ,  0.75 , 11.   ],\n",
              "       [ 5.9  ,  0.645,  0.12 , ...,  3.57 ,  0.71 , 10.2  ],\n",
              "       [ 6.   ,  0.31 ,  0.47 , ...,  3.39 ,  0.66 , 11.   ]])"
            ]
          },
          "metadata": {
            "tags": []
          },
          "execution_count": 28
        }
      ]
    },
    {
      "cell_type": "code",
      "metadata": {
        "id": "L7jwNlg91ZzG",
        "colab_type": "code",
        "colab": {},
        "outputId": "2f119a0f-9b84-41de-ad62-edcc8a9bdd59"
      },
      "source": [
        "# Let's check the average value of the “quality” column.\n",
        "\n",
        "plt.figure(figsize=(15,10))\n",
        "plt.tight_layout()\n",
        "seabornInstance.distplot(dataset['quality'])"
      ],
      "execution_count": 0,
      "outputs": [
        {
          "output_type": "execute_result",
          "data": {
            "text/plain": [
              "<matplotlib.axes._subplots.AxesSubplot at 0x193edaa8550>"
            ]
          },
          "metadata": {
            "tags": []
          },
          "execution_count": 29
        },
        {
          "output_type": "display_data",
          "data": {
            "image/png": "[encoded data removed]",
            "text/plain": [
              "<Figure size 1080x720 with 1 Axes>"
            ]
          },
          "metadata": {
            "tags": [],
            "needs_background": "light"
          }
        }
      ]
    },
    {
      "cell_type": "markdown",
      "metadata": {
        "id": "GX0TGpfX1ZzI",
        "colab_type": "text"
      },
      "source": [
        "As we can observe that most of the time the value is either 5 or 6."
      ]
    },
    {
      "cell_type": "code",
      "metadata": {
        "id": "yRFibPUg1ZzJ",
        "colab_type": "code",
        "colab": {}
      },
      "source": [
        "# Next, we split 80% of the data to the training set while 20% of the data to test set using below code.\n",
        "\n",
        "X_train, X_test, y_train, y_test = train_test_split(X, y, test_size=0.2, random_state=0)"
      ],
      "execution_count": 0,
      "outputs": []
    },
    {
      "cell_type": "code",
      "metadata": {
        "id": "iiB2Myde1ZzL",
        "colab_type": "code",
        "colab": {},
        "outputId": "23ff9274-def3-40bd-cdc0-bd833ca6a8f2"
      },
      "source": [
        "# Now lets train our model.\n",
        "\n",
        "regressor = LinearRegression()  \n",
        "regressor.fit(X_train, y_train)"
      ],
      "execution_count": 0,
      "outputs": [
        {
          "output_type": "execute_result",
          "data": {
            "text/plain": [
              "LinearRegression(copy_X=True, fit_intercept=True, n_jobs=None,\n",
              "         normalize=False)"
            ]
          },
          "metadata": {
            "tags": []
          },
          "execution_count": 31
        }
      ]
    },
    {
      "cell_type": "code",
      "metadata": {
        "id": "UbaNDw541ZzP",
        "colab_type": "code",
        "colab": {},
        "outputId": "d895da6c-fb86-4a85-a3e2-d005acb4e1ab"
      },
      "source": [
        "# In the case of multivariable linear regression, the regression model has to find the most optimal coefficients\n",
        "# for all the attributes. To see what coefficients our regression model has chosen, execute the following script:\n",
        "\n",
        "coeff_df = pd.DataFrame(regressor.coef_, dataset.columns.drop('quality'), columns=['Coefficient'])  \n",
        "coeff_df"
      ],
      "execution_count": 0,
      "outputs": [
        {
          "output_type": "execute_result",
          "data": {
            "text/html": [
              "<div>\n",
              "<style scoped>\n",
              "    .dataframe tbody tr th:only-of-type {\n",
              "        vertical-align: middle;\n",
              "    }\n",
              "\n",
              "    .dataframe tbody tr th {\n",
              "        vertical-align: top;\n",
              "    }\n",
              "\n",
              "    .dataframe thead th {\n",
              "        text-align: right;\n",
              "    }\n",
              "</style>\n",
              "<table border=\"1\" class=\"dataframe\">\n",
              "  <thead>\n",
              "    <tr style=\"text-align: right;\">\n",
              "      <th></th>\n",
              "      <th>Coefficient</th>\n",
              "    </tr>\n",
              "  </thead>\n",
              "  <tbody>\n",
              "    <tr>\n",
              "      <th>fixed acidity</th>\n",
              "      <td>0.041284</td>\n",
              "    </tr>\n",
              "    <tr>\n",
              "      <th>volatile acidity</th>\n",
              "      <td>-1.149528</td>\n",
              "    </tr>\n",
              "    <tr>\n",
              "      <th>citric acid</th>\n",
              "      <td>-0.177927</td>\n",
              "    </tr>\n",
              "    <tr>\n",
              "      <th>residual sugar</th>\n",
              "      <td>0.027870</td>\n",
              "    </tr>\n",
              "    <tr>\n",
              "      <th>chlorides</th>\n",
              "      <td>-1.873407</td>\n",
              "    </tr>\n",
              "    <tr>\n",
              "      <th>free sulfur dioxide</th>\n",
              "      <td>0.002684</td>\n",
              "    </tr>\n",
              "    <tr>\n",
              "      <th>total sulfur dioxide</th>\n",
              "      <td>-0.002777</td>\n",
              "    </tr>\n",
              "    <tr>\n",
              "      <th>density</th>\n",
              "      <td>-31.516666</td>\n",
              "    </tr>\n",
              "    <tr>\n",
              "      <th>pH</th>\n",
              "      <td>-0.254486</td>\n",
              "    </tr>\n",
              "    <tr>\n",
              "      <th>sulphates</th>\n",
              "      <td>0.924040</td>\n",
              "    </tr>\n",
              "    <tr>\n",
              "      <th>alcohol</th>\n",
              "      <td>0.267797</td>\n",
              "    </tr>\n",
              "  </tbody>\n",
              "</table>\n",
              "</div>"
            ],
            "text/plain": [
              "                      Coefficient\n",
              "fixed acidity            0.041284\n",
              "volatile acidity        -1.149528\n",
              "citric acid             -0.177927\n",
              "residual sugar           0.027870\n",
              "chlorides               -1.873407\n",
              "free sulfur dioxide      0.002684\n",
              "total sulfur dioxide    -0.002777\n",
              "density                -31.516666\n",
              "pH                      -0.254486\n",
              "sulphates                0.924040\n",
              "alcohol                  0.267797"
            ]
          },
          "metadata": {
            "tags": []
          },
          "execution_count": 32
        }
      ]
    },
    {
      "cell_type": "markdown",
      "metadata": {
        "id": "hW7mtsC21ZzS",
        "colab_type": "text"
      },
      "source": [
        "This means that for a unit increase in “density”, there is a decrease of 31.51 units in the quality of the wine. Similarly, a unit decrease in “Chlorides“ results in an increase of 1.87 units in the quality of the wine. We can see that the rest of the features have very little effect on the quality of the wine."
      ]
    },
    {
      "cell_type": "code",
      "metadata": {
        "id": "mYRBrLlk1ZzY",
        "colab_type": "code",
        "colab": {}
      },
      "source": [
        "# Now let's do prediction on test data.\n",
        "\n",
        "y_pred = regressor.predict(X_test)"
      ],
      "execution_count": 0,
      "outputs": []
    },
    {
      "cell_type": "code",
      "metadata": {
        "id": "ravJIPTp1Zza",
        "colab_type": "code",
        "colab": {},
        "outputId": "05841ce4-e25f-4f80-e5ec-782bb7a3d1c7"
      },
      "source": [
        "# Check the difference between the actual value and predicted value.\n",
        "\n",
        "df = pd.DataFrame({'Actual': y_test, 'Predicted': y_pred})\n",
        "\n",
        "df1 = df.head(25)\n",
        "df1"
      ],
      "execution_count": 0,
      "outputs": [
        {
          "output_type": "execute_result",
          "data": {
            "text/html": [
              "<div>\n",
              "<style scoped>\n",
              "    .dataframe tbody tr th:only-of-type {\n",
              "        vertical-align: middle;\n",
              "    }\n",
              "\n",
              "    .dataframe tbody tr th {\n",
              "        vertical-align: top;\n",
              "    }\n",
              "\n",
              "    .dataframe thead th {\n",
              "        text-align: right;\n",
              "    }\n",
              "</style>\n",
              "<table border=\"1\" class=\"dataframe\">\n",
              "  <thead>\n",
              "    <tr style=\"text-align: right;\">\n",
              "      <th></th>\n",
              "      <th>Actual</th>\n",
              "      <th>Predicted</th>\n",
              "    </tr>\n",
              "  </thead>\n",
              "  <tbody>\n",
              "    <tr>\n",
              "      <th>0</th>\n",
              "      <td>6</td>\n",
              "      <td>5.782930</td>\n",
              "    </tr>\n",
              "    <tr>\n",
              "      <th>1</th>\n",
              "      <td>5</td>\n",
              "      <td>5.036193</td>\n",
              "    </tr>\n",
              "    <tr>\n",
              "      <th>2</th>\n",
              "      <td>7</td>\n",
              "      <td>6.596989</td>\n",
              "    </tr>\n",
              "    <tr>\n",
              "      <th>3</th>\n",
              "      <td>6</td>\n",
              "      <td>5.339126</td>\n",
              "    </tr>\n",
              "    <tr>\n",
              "      <th>4</th>\n",
              "      <td>5</td>\n",
              "      <td>5.939529</td>\n",
              "    </tr>\n",
              "    <tr>\n",
              "      <th>5</th>\n",
              "      <td>6</td>\n",
              "      <td>5.007207</td>\n",
              "    </tr>\n",
              "    <tr>\n",
              "      <th>6</th>\n",
              "      <td>5</td>\n",
              "      <td>5.396162</td>\n",
              "    </tr>\n",
              "    <tr>\n",
              "      <th>7</th>\n",
              "      <td>6</td>\n",
              "      <td>6.052112</td>\n",
              "    </tr>\n",
              "    <tr>\n",
              "      <th>8</th>\n",
              "      <td>4</td>\n",
              "      <td>4.867603</td>\n",
              "    </tr>\n",
              "    <tr>\n",
              "      <th>9</th>\n",
              "      <td>5</td>\n",
              "      <td>4.950676</td>\n",
              "    </tr>\n",
              "    <tr>\n",
              "      <th>10</th>\n",
              "      <td>5</td>\n",
              "      <td>5.285804</td>\n",
              "    </tr>\n",
              "    <tr>\n",
              "      <th>11</th>\n",
              "      <td>5</td>\n",
              "      <td>5.412653</td>\n",
              "    </tr>\n",
              "    <tr>\n",
              "      <th>12</th>\n",
              "      <td>6</td>\n",
              "      <td>5.705742</td>\n",
              "    </tr>\n",
              "    <tr>\n",
              "      <th>13</th>\n",
              "      <td>5</td>\n",
              "      <td>5.129217</td>\n",
              "    </tr>\n",
              "    <tr>\n",
              "      <th>14</th>\n",
              "      <td>6</td>\n",
              "      <td>5.528852</td>\n",
              "    </tr>\n",
              "    <tr>\n",
              "      <th>15</th>\n",
              "      <td>6</td>\n",
              "      <td>6.380524</td>\n",
              "    </tr>\n",
              "    <tr>\n",
              "      <th>16</th>\n",
              "      <td>7</td>\n",
              "      <td>6.810125</td>\n",
              "    </tr>\n",
              "    <tr>\n",
              "      <th>17</th>\n",
              "      <td>5</td>\n",
              "      <td>5.738033</td>\n",
              "    </tr>\n",
              "    <tr>\n",
              "      <th>18</th>\n",
              "      <td>5</td>\n",
              "      <td>5.976188</td>\n",
              "    </tr>\n",
              "    <tr>\n",
              "      <th>19</th>\n",
              "      <td>4</td>\n",
              "      <td>5.086134</td>\n",
              "    </tr>\n",
              "    <tr>\n",
              "      <th>20</th>\n",
              "      <td>7</td>\n",
              "      <td>6.344799</td>\n",
              "    </tr>\n",
              "    <tr>\n",
              "      <th>21</th>\n",
              "      <td>6</td>\n",
              "      <td>5.164010</td>\n",
              "    </tr>\n",
              "    <tr>\n",
              "      <th>22</th>\n",
              "      <td>6</td>\n",
              "      <td>5.642040</td>\n",
              "    </tr>\n",
              "    <tr>\n",
              "      <th>23</th>\n",
              "      <td>4</td>\n",
              "      <td>6.146290</td>\n",
              "    </tr>\n",
              "    <tr>\n",
              "      <th>24</th>\n",
              "      <td>6</td>\n",
              "      <td>5.481780</td>\n",
              "    </tr>\n",
              "  </tbody>\n",
              "</table>\n",
              "</div>"
            ],
            "text/plain": [
              "    Actual  Predicted\n",
              "0        6   5.782930\n",
              "1        5   5.036193\n",
              "2        7   6.596989\n",
              "3        6   5.339126\n",
              "4        5   5.939529\n",
              "5        6   5.007207\n",
              "6        5   5.396162\n",
              "7        6   6.052112\n",
              "8        4   4.867603\n",
              "9        5   4.950676\n",
              "10       5   5.285804\n",
              "11       5   5.412653\n",
              "12       6   5.705742\n",
              "13       5   5.129217\n",
              "14       6   5.528852\n",
              "15       6   6.380524\n",
              "16       7   6.810125\n",
              "17       5   5.738033\n",
              "18       5   5.976188\n",
              "19       4   5.086134\n",
              "20       7   6.344799\n",
              "21       6   5.164010\n",
              "22       6   5.642040\n",
              "23       4   6.146290\n",
              "24       6   5.481780"
            ]
          },
          "metadata": {
            "tags": []
          },
          "execution_count": 34
        }
      ]
    },
    {
      "cell_type": "code",
      "metadata": {
        "id": "9maYiVu11Zzd",
        "colab_type": "code",
        "colab": {},
        "outputId": "0737f371-8f28-4c69-897c-e84710445cf0"
      },
      "source": [
        "# Now let's plot the comparison of Actual and Predicted values\n",
        "\n",
        "df1.plot(kind='bar',figsize=(10,8))\n",
        "plt.grid(which='major', linestyle='-', linewidth='0.5', color='green')\n",
        "plt.grid(which='minor', linestyle=':', linewidth='0.5', color='black')\n",
        "plt.show()"
      ],
      "execution_count": 0,
      "outputs": [
        {
          "output_type": "display_data",
          "data": {
            "image/png": "[encoded data removed]",
            "text/plain": [
              "<Figure size 720x576 with 1 Axes>"
            ]
          },
          "metadata": {
            "tags": [],
            "needs_background": "light"
          }
        }
      ]
    },
    {
      "cell_type": "markdown",
      "metadata": {
        "id": "vJPrM58S1Zzf",
        "colab_type": "text"
      },
      "source": [
        "As we can observe here that our model has returned pretty good prediction results.\n",
        "\n",
        "The final step is to evaluate the performance of the algorithm. We’ll do this by finding the values for MAE, MSE, and RMSE. Execute the following script:"
      ]
    },
    {
      "cell_type": "code",
      "metadata": {
        "id": "FeS7ztBU1Zzf",
        "colab_type": "code",
        "colab": {},
        "outputId": "111cdb0c-55e1-45fd-a0ec-31697b20b11b"
      },
      "source": [
        "print('Mean Absolute Error:', metrics.mean_absolute_error(y_test, y_pred))  \n",
        "print('Mean Squared Error:', metrics.mean_squared_error(y_test, y_pred))  \n",
        "print('Root Mean Squared Error:', np.sqrt(metrics.mean_squared_error(y_test, y_pred)))"
      ],
      "execution_count": 0,
      "outputs": [
        {
          "output_type": "stream",
          "text": [
            "Mean Absolute Error: 0.46963309286611016\n",
            "Mean Squared Error: 0.3844711978201237\n",
            "Root Mean Squared Error: 0.6200574149384263\n"
          ],
          "name": "stdout"
        }
      ]
    },
    {
      "cell_type": "markdown",
      "metadata": {
        "id": "vtUKl3ic1Zzh",
        "colab_type": "text"
      },
      "source": [
        "You can see that the value of root mean squared error is 0.62, which is slightly greater than 10% of the mean value which is 5.63. This means that our algorithm was not very accurate but can still make reasonably good predictions."
      ]
    },
    {
      "cell_type": "markdown",
      "metadata": {
        "id": "jPFGtRix1Zzj",
        "colab_type": "text"
      },
      "source": [
        "There are many factors that may have contributed to this inaccuracy, for example :\n",
        "\n",
        "- **Need more data:** We need to have a huge amount of data to get the best possible prediction.\n",
        "- **Bad assumptions:** We made the assumption that this data has a linear relationship, but that might not be the case. Visualizing the data may help you determine that.\n",
        "- **Poor features:** The features we used may not have had a high enough correlation to the values we were trying to predict."
      ]
    },
    {
      "cell_type": "markdown",
      "metadata": {
        "id": "LgJomv4f1Zzk",
        "colab_type": "text"
      },
      "source": [
        "Conclusion:\n",
        "\n",
        "In this article, we studied the most fundamental machine learning algorithms i.e. linear regression. We implemented both simple linear regression and multiple linear regression with the help of the Scikit-Learn machine learning library."
      ]
    },
    {
      "cell_type": "code",
      "metadata": {
        "id": "OIkfkNO21Zzk",
        "colab_type": "code",
        "colab": {}
      },
      "source": [
        ""
      ],
      "execution_count": 0,
      "outputs": []
    },
    {
      "cell_type": "code",
      "metadata": {
        "id": "y2oIFG681Zzn",
        "colab_type": "code",
        "colab": {}
      },
      "source": [
        ""
      ],
      "execution_count": 0,
      "outputs": []
    }
  ]
}