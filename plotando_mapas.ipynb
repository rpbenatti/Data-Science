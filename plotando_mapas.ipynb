{
  "nbformat": 4,
  "nbformat_minor": 0,
  "metadata": {
    "kernelspec": {
      "display_name": "Python 3",
      "language": "python",
      "name": "python3"
    },
    "language_info": {
      "codemirror_mode": {
        "name": "ipython",
        "version": 3
      },
      "file_extension": ".py",
      "mimetype": "text/x-python",
      "name": "python",
      "nbconvert_exporter": "python",
      "pygments_lexer": "ipython3",
      "version": "3.7.3"
    },
    "colab": {
      "name": "plotando-mapas.ipynb",
      "version": "0.3.2",
      "provenance": [],
      "include_colab_link": true
    }
  },
  "cells": [
    {
      "cell_type": "markdown",
      "metadata": {
        "id": "view-in-github",
        "colab_type": "text"
      },
      "source": [
        "<a href=\"https://colab.research.google.com/github/rpbenatti/Data-Science/blob/master/plotando_mapas.ipynb\" target=\"_parent\"><img src=\"https://colab.research.google.com/assets/colab-badge.svg\" alt=\"Open In Colab\"/></a>"
      ]
    },
    {
      "cell_type": "code",
      "metadata": {
        "id": "wy8zseY425jo",
        "colab_type": "code",
        "colab": {},
        "outputId": "8308eb1e-b5b8-414b-862c-6bf5893dffb8"
      },
      "source": [
        "import sys\n",
        "!{sys.executable} -m pip install folium"
      ],
      "execution_count": 0,
      "outputs": [
        {
          "output_type": "stream",
          "text": [
            "Collecting folium\n",
            "  Downloading https://files.pythonhosted.org/packages/72/ff/004bfe344150a064e558cb2aedeaa02ecbf75e60e148a55a9198f0c41765/folium-0.10.0-py2.py3-none-any.whl (91kB)\n",
            "Requirement already satisfied: numpy in c:\\programdata\\anaconda3\\lib\\site-packages (from folium) (1.16.2)\n",
            "Requirement already satisfied: jinja2>=2.9 in c:\\programdata\\anaconda3\\lib\\site-packages (from folium) (2.10)\n",
            "Requirement already satisfied: requests in c:\\programdata\\anaconda3\\lib\\site-packages (from folium) (2.21.0)\n",
            "Collecting branca>=0.3.0 (from folium)\n",
            "  Downloading https://files.pythonhosted.org/packages/63/36/1c93318e9653f4e414a2e0c3b98fc898b4970e939afeedeee6075dd3b703/branca-0.3.1-py3-none-any.whl\n",
            "Requirement already satisfied: MarkupSafe>=0.23 in c:\\programdata\\anaconda3\\lib\\site-packages (from jinja2>=2.9->folium) (1.1.1)\n",
            "Requirement already satisfied: urllib3<1.25,>=1.21.1 in c:\\programdata\\anaconda3\\lib\\site-packages (from requests->folium) (1.24.1)\n",
            "Requirement already satisfied: idna<2.9,>=2.5 in c:\\programdata\\anaconda3\\lib\\site-packages (from requests->folium) (2.8)\n",
            "Requirement already satisfied: certifi>=2017.4.17 in c:\\programdata\\anaconda3\\lib\\site-packages (from requests->folium) (2019.3.9)\n",
            "Requirement already satisfied: chardet<3.1.0,>=3.0.2 in c:\\programdata\\anaconda3\\lib\\site-packages (from requests->folium) (3.0.4)\n",
            "Requirement already satisfied: six in c:\\programdata\\anaconda3\\lib\\site-packages (from branca>=0.3.0->folium) (1.12.0)\n",
            "Installing collected packages: branca, folium\n",
            "Successfully installed branca-0.3.1 folium-0.10.0\n"
          ],
          "name": "stdout"
        }
      ]
    },
    {
      "cell_type": "code",
      "metadata": {
        "id": "agxYyNfE25jz",
        "colab_type": "code",
        "colab": {},
        "outputId": "bd00a0c2-2e20-44d3-d769-b480715d4a41"
      },
      "source": [
        "import pandas as pd\n",
        "\n",
        "# Definindo JSON de forma manual\n",
        "end_turma =\"\"\"\n",
        "        {\n",
        "            \"Minion\":{\n",
        "                     \"0\":\"Stuart\",\n",
        "                     \"1\":\"Kevin\",\n",
        "                     \"2\":\"Bob\",\n",
        "                     \"3\":\"Dave\"\n",
        "                         },\n",
        "            \"Latitude\":{\n",
        "                    \"0\":-23.7273345,\n",
        "                    \"1\":-23.6273344,\n",
        "                    \"2\":-23.6344377,\n",
        "                    \"3\":-23.6344379\n",
        "                    \n",
        "                        },\n",
        "            \"Longitude\":{\n",
        "                    \"0\":-46.7369416,\n",
        "                    \"1\":-46.6369415,\n",
        "                    \"2\":-46.6369419,\n",
        "                    \"3\":-46.7246571\n",
        "                         }\n",
        "        }\"\"\"\n",
        "\n",
        "# Traduzindo JSON para um dataframe (pandas)\n",
        "df = pd.read_json(end_turma)\n",
        "\n",
        "print('Dataframe gerado pelo JSON')\n",
        "df.head(10)"
      ],
      "execution_count": 0,
      "outputs": [
        {
          "output_type": "stream",
          "text": [
            "Dataframe gerado pelo JSON\n"
          ],
          "name": "stdout"
        },
        {
          "output_type": "execute_result",
          "data": {
            "text/html": [
              "<div>\n",
              "<style scoped>\n",
              "    .dataframe tbody tr th:only-of-type {\n",
              "        vertical-align: middle;\n",
              "    }\n",
              "\n",
              "    .dataframe tbody tr th {\n",
              "        vertical-align: top;\n",
              "    }\n",
              "\n",
              "    .dataframe thead th {\n",
              "        text-align: right;\n",
              "    }\n",
              "</style>\n",
              "<table border=\"1\" class=\"dataframe\">\n",
              "  <thead>\n",
              "    <tr style=\"text-align: right;\">\n",
              "      <th></th>\n",
              "      <th>Minion</th>\n",
              "      <th>Latitude</th>\n",
              "      <th>Longitude</th>\n",
              "    </tr>\n",
              "  </thead>\n",
              "  <tbody>\n",
              "    <tr>\n",
              "      <th>0</th>\n",
              "      <td>Stuart</td>\n",
              "      <td>-23.727335</td>\n",
              "      <td>-46.736942</td>\n",
              "    </tr>\n",
              "    <tr>\n",
              "      <th>1</th>\n",
              "      <td>Kevin</td>\n",
              "      <td>-23.627334</td>\n",
              "      <td>-46.636941</td>\n",
              "    </tr>\n",
              "    <tr>\n",
              "      <th>2</th>\n",
              "      <td>Bob</td>\n",
              "      <td>-23.634438</td>\n",
              "      <td>-46.636942</td>\n",
              "    </tr>\n",
              "    <tr>\n",
              "      <th>3</th>\n",
              "      <td>Dave</td>\n",
              "      <td>-23.634438</td>\n",
              "      <td>-46.724657</td>\n",
              "    </tr>\n",
              "  </tbody>\n",
              "</table>\n",
              "</div>"
            ],
            "text/plain": [
              "   Minion   Latitude  Longitude\n",
              "0  Stuart -23.727335 -46.736942\n",
              "1   Kevin -23.627334 -46.636941\n",
              "2     Bob -23.634438 -46.636942\n",
              "3    Dave -23.634438 -46.724657"
            ]
          },
          "metadata": {
            "tags": []
          },
          "execution_count": 2
        }
      ]
    },
    {
      "cell_type": "code",
      "metadata": {
        "id": "MeZZxqCw25j7",
        "colab_type": "code",
        "colab": {},
        "outputId": "afd35d1d-ec74-470b-d7a2-eb02c0c399a2"
      },
      "source": [
        "import folium\n",
        "\n",
        "location = df['Latitude'].mean(), df['Longitude'].mean()\n",
        "locationlist = df[[\"Latitude\",\"Longitude\"]].values.tolist()\n",
        "labels = df[\"Minion\"].values.tolist()\n",
        "\n",
        "m = folium.Map(location=location, zoom_start=10)\n",
        "for point in range(len(locationlist)):\n",
        "    popup = folium.Popup(labels[point], parse_html=True)\n",
        "    folium.Marker(locationlist[point], popup=popup).add_to(m)\n",
        "    \n",
        "m"
      ],
      "execution_count": 0,
      "outputs": [
        {
          "output_type": "execute_result",
          "data": {
            "text/html": [
              "<div style=\"width:100%;\"><div style=\"position:relative;width:100%;height:0;padding-bottom:60%;\"><iframe src=\"data:text/html;charset=utf-8;base64,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\" style=\"position:absolute;width:100%;height:100%;left:0;top:0;border:none !important;\" allowfullscreen webkitallowfullscreen mozallowfullscreen></iframe></div></div>"
            ],
            "text/plain": [
              "<folium.folium.Map at 0x216cc5de128>"
            ]
          },
          "metadata": {
            "tags": []
          },
          "execution_count": 3
        }
      ]
    },
    {
      "cell_type": "code",
      "metadata": {
        "id": "DTTFGyw525kA",
        "colab_type": "code",
        "colab": {}
      },
      "source": [
        ""
      ],
      "execution_count": 0,
      "outputs": []
    }
  ]
}