{
 "cells": [
  {
   "cell_type": "code",
   "execution_count": 1,
   "metadata": {},
   "outputs": [],
   "source": [
    "import pandas as pd\n",
    "import numpy as np\n",
    "\n",
    "import warnings\n",
    "warnings.filterwarnings(\"ignore\")"
   ]
  },
  {
   "cell_type": "code",
   "execution_count": 2,
   "metadata": {},
   "outputs": [],
   "source": [
    "df = pd.read_csv(r'../99 Datasets/CAGEDEST_122018.txt', delimiter=';', encoding='ISO-8859-1')"
   ]
  },
  {
   "cell_type": "code",
   "execution_count": 3,
   "metadata": {},
   "outputs": [],
   "source": [
    "defic = pd.DataFrame({'idade':df['Idade'],\n",
    "                      'sexo':df['Sexo'],\n",
    "                      'etnia':df['Raça Cor'],\n",
    "                      'instrucao':df['Grau Instrução'],\n",
    "                      'deficiente':df['Ind Portador Defic'],\n",
    "                      'tipodefic':df['Tipo Defic'],\n",
    "                      'salario':df['Salário Mensal']})"
   ]
  },
  {
   "cell_type": "code",
   "execution_count": 4,
   "metadata": {},
   "outputs": [],
   "source": [
    "defic = defic[(defic['tipodefic'] > 0)]"
   ]
  },
  {
   "cell_type": "code",
   "execution_count": 5,
   "metadata": {},
   "outputs": [
    {
     "data": {
      "text/plain": [
       "(16572, 7)"
      ]
     },
     "execution_count": 5,
     "metadata": {},
     "output_type": "execute_result"
    }
   ],
   "source": [
    "defic.shape"
   ]
  },
  {
   "cell_type": "code",
   "execution_count": 6,
   "metadata": {},
   "outputs": [
    {
     "name": "stdout",
     "output_type": "stream",
     "text": [
      "<class 'pandas.core.frame.DataFrame'>\n",
      "Int64Index: 16572 entries, 215 to 2256738\n",
      "Data columns (total 7 columns):\n",
      "idade         16572 non-null int64\n",
      "sexo          16572 non-null int64\n",
      "etnia         16572 non-null int64\n",
      "instrucao     16572 non-null int64\n",
      "deficiente    16572 non-null int64\n",
      "tipodefic     16572 non-null int64\n",
      "salario       16572 non-null object\n",
      "dtypes: int64(6), object(1)\n",
      "memory usage: 1.0+ MB\n"
     ]
    }
   ],
   "source": [
    "defic.info()"
   ]
  },
  {
   "cell_type": "code",
   "execution_count": 7,
   "metadata": {},
   "outputs": [
    {
     "data": {
      "text/html": [
       "<div>\n",
       "<style scoped>\n",
       "    .dataframe tbody tr th:only-of-type {\n",
       "        vertical-align: middle;\n",
       "    }\n",
       "\n",
       "    .dataframe tbody tr th {\n",
       "        vertical-align: top;\n",
       "    }\n",
       "\n",
       "    .dataframe thead th {\n",
       "        text-align: right;\n",
       "    }\n",
       "</style>\n",
       "<table border=\"1\" class=\"dataframe\">\n",
       "  <thead>\n",
       "    <tr style=\"text-align: right;\">\n",
       "      <th></th>\n",
       "      <th>idade</th>\n",
       "      <th>sexo</th>\n",
       "      <th>etnia</th>\n",
       "      <th>instrucao</th>\n",
       "      <th>deficiente</th>\n",
       "      <th>tipodefic</th>\n",
       "    </tr>\n",
       "  </thead>\n",
       "  <tbody>\n",
       "    <tr>\n",
       "      <th>count</th>\n",
       "      <td>16572.000000</td>\n",
       "      <td>16572.000000</td>\n",
       "      <td>16572.000000</td>\n",
       "      <td>16572.000000</td>\n",
       "      <td>16572.0</td>\n",
       "      <td>16572.000000</td>\n",
       "    </tr>\n",
       "    <tr>\n",
       "      <th>mean</th>\n",
       "      <td>34.449312</td>\n",
       "      <td>1.377625</td>\n",
       "      <td>5.057567</td>\n",
       "      <td>6.526370</td>\n",
       "      <td>1.0</td>\n",
       "      <td>2.115798</td>\n",
       "    </tr>\n",
       "    <tr>\n",
       "      <th>std</th>\n",
       "      <td>11.207164</td>\n",
       "      <td>0.484808</td>\n",
       "      <td>3.005126</td>\n",
       "      <td>1.610371</td>\n",
       "      <td>0.0</td>\n",
       "      <td>1.370147</td>\n",
       "    </tr>\n",
       "    <tr>\n",
       "      <th>min</th>\n",
       "      <td>14.000000</td>\n",
       "      <td>1.000000</td>\n",
       "      <td>1.000000</td>\n",
       "      <td>1.000000</td>\n",
       "      <td>1.0</td>\n",
       "      <td>1.000000</td>\n",
       "    </tr>\n",
       "    <tr>\n",
       "      <th>25%</th>\n",
       "      <td>25.000000</td>\n",
       "      <td>1.000000</td>\n",
       "      <td>2.000000</td>\n",
       "      <td>6.000000</td>\n",
       "      <td>1.0</td>\n",
       "      <td>1.000000</td>\n",
       "    </tr>\n",
       "    <tr>\n",
       "      <th>50%</th>\n",
       "      <td>33.000000</td>\n",
       "      <td>1.000000</td>\n",
       "      <td>4.000000</td>\n",
       "      <td>7.000000</td>\n",
       "      <td>1.0</td>\n",
       "      <td>2.000000</td>\n",
       "    </tr>\n",
       "    <tr>\n",
       "      <th>75%</th>\n",
       "      <td>42.000000</td>\n",
       "      <td>2.000000</td>\n",
       "      <td>8.000000</td>\n",
       "      <td>7.000000</td>\n",
       "      <td>1.0</td>\n",
       "      <td>3.000000</td>\n",
       "    </tr>\n",
       "    <tr>\n",
       "      <th>max</th>\n",
       "      <td>91.000000</td>\n",
       "      <td>2.000000</td>\n",
       "      <td>9.000000</td>\n",
       "      <td>9.000000</td>\n",
       "      <td>1.0</td>\n",
       "      <td>6.000000</td>\n",
       "    </tr>\n",
       "  </tbody>\n",
       "</table>\n",
       "</div>"
      ],
      "text/plain": [
       "              idade          sexo         etnia     instrucao  deficiente  \\\n",
       "count  16572.000000  16572.000000  16572.000000  16572.000000     16572.0   \n",
       "mean      34.449312      1.377625      5.057567      6.526370         1.0   \n",
       "std       11.207164      0.484808      3.005126      1.610371         0.0   \n",
       "min       14.000000      1.000000      1.000000      1.000000         1.0   \n",
       "25%       25.000000      1.000000      2.000000      6.000000         1.0   \n",
       "50%       33.000000      1.000000      4.000000      7.000000         1.0   \n",
       "75%       42.000000      2.000000      8.000000      7.000000         1.0   \n",
       "max       91.000000      2.000000      9.000000      9.000000         1.0   \n",
       "\n",
       "          tipodefic  \n",
       "count  16572.000000  \n",
       "mean       2.115798  \n",
       "std        1.370147  \n",
       "min        1.000000  \n",
       "25%        1.000000  \n",
       "50%        2.000000  \n",
       "75%        3.000000  \n",
       "max        6.000000  "
      ]
     },
     "execution_count": 7,
     "metadata": {},
     "output_type": "execute_result"
    }
   ],
   "source": [
    "defic.describe()"
   ]
  },
  {
   "cell_type": "code",
   "execution_count": 8,
   "metadata": {},
   "outputs": [],
   "source": [
    "defic['sexo'] = defic['sexo'].replace({1: 'Masculino',\n",
    "                                       2: 'Feminino'})\n",
    "\n",
    "defic['etnia'] = defic['etnia'].replace({1: 'Indigena',\n",
    "                                         2: 'Branca',\n",
    "                                         4: 'Preta',\n",
    "                                         6: 'Amarela',\n",
    "                                         8: 'Parda',\n",
    "                                         9: 'Nao identificada'})\n",
    "\n",
    "defic['instrucao'] = defic['instrucao'].replace({1: 'Analfabeto',\n",
    "                                                 2: 'Até 5ª Incompleto',\n",
    "                                                 3: '5ª Completo Fundamental',\n",
    "                                                 4: '6ª a 9ª Fundamental',\n",
    "                                                 5: 'Fundamental Completo',\n",
    "                                                 6: 'Médio Incompleto',\n",
    "                                                 7: 'Médio Completo',\n",
    "                                                 8: 'Superior Incompleto',\n",
    "                                                 9: 'Superior Completo'})\n",
    "\n",
    "defic['tipodefic'] = defic['tipodefic'].replace({1: 'Fisica',\n",
    "                                                 2: 'Auditiva',\n",
    "                                                 3: 'Visual',\n",
    "                                                 4: 'Mental',\n",
    "                                                 5: 'Multipla',\n",
    "                                                 6: 'Reabilitado'})\n",
    "\n",
    "defic['salario'] = defic['salario'].str.replace(',','.')\n",
    "\n",
    "defic['sexo'] = defic['sexo'].astype(object, errors='raise')\n",
    "defic['etnia'] = defic['etnia'].astype(object, errors='raise')\n",
    "defic['instrucao'] = defic['instrucao'].astype(object, errors='raise')\n",
    "defic['tipodefic'] = defic['tipodefic'].astype(object, errors='raise')\n",
    "defic['salario'] = defic['salario'].astype(float)"
   ]
  },
  {
   "cell_type": "code",
   "execution_count": 9,
   "metadata": {},
   "outputs": [
    {
     "data": {
      "text/html": [
       "<div>\n",
       "<style scoped>\n",
       "    .dataframe tbody tr th:only-of-type {\n",
       "        vertical-align: middle;\n",
       "    }\n",
       "\n",
       "    .dataframe tbody tr th {\n",
       "        vertical-align: top;\n",
       "    }\n",
       "\n",
       "    .dataframe thead th {\n",
       "        text-align: right;\n",
       "    }\n",
       "</style>\n",
       "<table border=\"1\" class=\"dataframe\">\n",
       "  <thead>\n",
       "    <tr style=\"text-align: right;\">\n",
       "      <th></th>\n",
       "      <th>idade</th>\n",
       "      <th>sexo</th>\n",
       "      <th>etnia</th>\n",
       "      <th>instrucao</th>\n",
       "      <th>deficiente</th>\n",
       "      <th>tipodefic</th>\n",
       "      <th>salario</th>\n",
       "    </tr>\n",
       "  </thead>\n",
       "  <tbody>\n",
       "    <tr>\n",
       "      <th>215</th>\n",
       "      <td>19</td>\n",
       "      <td>Masculino</td>\n",
       "      <td>Branca</td>\n",
       "      <td>Médio Completo</td>\n",
       "      <td>1</td>\n",
       "      <td>Visual</td>\n",
       "      <td>1000.0</td>\n",
       "    </tr>\n",
       "    <tr>\n",
       "      <th>352</th>\n",
       "      <td>17</td>\n",
       "      <td>Masculino</td>\n",
       "      <td>Parda</td>\n",
       "      <td>Médio Incompleto</td>\n",
       "      <td>1</td>\n",
       "      <td>Auditiva</td>\n",
       "      <td>1097.0</td>\n",
       "    </tr>\n",
       "    <tr>\n",
       "      <th>391</th>\n",
       "      <td>25</td>\n",
       "      <td>Masculino</td>\n",
       "      <td>Parda</td>\n",
       "      <td>6ª a 9ª Fundamental</td>\n",
       "      <td>1</td>\n",
       "      <td>Mental</td>\n",
       "      <td>1095.0</td>\n",
       "    </tr>\n",
       "    <tr>\n",
       "      <th>426</th>\n",
       "      <td>24</td>\n",
       "      <td>Masculino</td>\n",
       "      <td>Branca</td>\n",
       "      <td>Médio Completo</td>\n",
       "      <td>1</td>\n",
       "      <td>Auditiva</td>\n",
       "      <td>1095.0</td>\n",
       "    </tr>\n",
       "    <tr>\n",
       "      <th>493</th>\n",
       "      <td>19</td>\n",
       "      <td>Masculino</td>\n",
       "      <td>Branca</td>\n",
       "      <td>Médio Incompleto</td>\n",
       "      <td>1</td>\n",
       "      <td>Visual</td>\n",
       "      <td>1185.0</td>\n",
       "    </tr>\n",
       "  </tbody>\n",
       "</table>\n",
       "</div>"
      ],
      "text/plain": [
       "     idade       sexo   etnia            instrucao  deficiente tipodefic  \\\n",
       "215     19  Masculino  Branca       Médio Completo           1    Visual   \n",
       "352     17  Masculino   Parda     Médio Incompleto           1  Auditiva   \n",
       "391     25  Masculino   Parda  6ª a 9ª Fundamental           1    Mental   \n",
       "426     24  Masculino  Branca       Médio Completo           1  Auditiva   \n",
       "493     19  Masculino  Branca     Médio Incompleto           1    Visual   \n",
       "\n",
       "     salario  \n",
       "215   1000.0  \n",
       "352   1097.0  \n",
       "391   1095.0  \n",
       "426   1095.0  \n",
       "493   1185.0  "
      ]
     },
     "execution_count": 9,
     "metadata": {},
     "output_type": "execute_result"
    }
   ],
   "source": [
    "defic.head()"
   ]
  },
  {
   "cell_type": "code",
   "execution_count": 10,
   "metadata": {},
   "outputs": [
    {
     "name": "stdout",
     "output_type": "stream",
     "text": [
      "<class 'pandas.core.frame.DataFrame'>\n",
      "Int64Index: 16572 entries, 215 to 2256738\n",
      "Data columns (total 7 columns):\n",
      "idade         16572 non-null int64\n",
      "sexo          16572 non-null object\n",
      "etnia         16572 non-null object\n",
      "instrucao     16572 non-null object\n",
      "deficiente    16572 non-null int64\n",
      "tipodefic     16572 non-null object\n",
      "salario       16572 non-null float64\n",
      "dtypes: float64(1), int64(2), object(4)\n",
      "memory usage: 1.0+ MB\n"
     ]
    }
   ],
   "source": [
    "defic.info()"
   ]
  },
  {
   "cell_type": "code",
   "execution_count": 11,
   "metadata": {},
   "outputs": [
    {
     "data": {
      "text/plain": [
       "<matplotlib.axes._subplots.AxesSubplot at 0x20e015d09e8>"
      ]
     },
     "execution_count": 11,
     "metadata": {},
     "output_type": "execute_result"
    },
    {
     "data": {
      "image/png": "[encoded data removed]",
      "text/plain": [
       "<Figure size 432x288 with 1 Axes>"
      ]
     },
     "metadata": {
      "needs_background": "light"
     },
     "output_type": "display_data"
    }
   ],
   "source": [
    "%matplotlib inline\n",
    "defic['idade'].plot(kind='hist', bins=150)"
   ]
  },
  {
   "cell_type": "code",
   "execution_count": 12,
   "metadata": {},
   "outputs": [
    {
     "data": {
      "text/plain": [
       "<matplotlib.axes._subplots.AxesSubplot at 0x20e02f49390>"
      ]
     },
     "execution_count": 12,
     "metadata": {},
     "output_type": "execute_result"
    },
    {
     "data": {
      "image/png": "[encoded data removed]",
      "text/plain": [
       "<Figure size 432x288 with 1 Axes>"
      ]
     },
     "metadata": {
      "needs_background": "light"
     },
     "output_type": "display_data"
    }
   ],
   "source": [
    "defic['sexo'].value_counts().plot(kind='bar')"
   ]
  },
  {
   "cell_type": "code",
   "execution_count": 13,
   "metadata": {},
   "outputs": [
    {
     "data": {
      "text/plain": [
       "<matplotlib.axes._subplots.AxesSubplot at 0x20e01fa2080>"
      ]
     },
     "execution_count": 13,
     "metadata": {},
     "output_type": "execute_result"
    },
    {
     "data": {
      "image/png": "[encoded data removed]",
      "text/plain": [
       "<Figure size 432x288 with 1 Axes>"
      ]
     },
     "metadata": {
      "needs_background": "light"
     },
     "output_type": "display_data"
    }
   ],
   "source": [
    "defic['etnia'].value_counts().plot(kind='bar')"
   ]
  },
  {
   "cell_type": "code",
   "execution_count": 14,
   "metadata": {},
   "outputs": [
    {
     "data": {
      "text/plain": [
       "<matplotlib.axes._subplots.AxesSubplot at 0x20e02ff9fd0>"
      ]
     },
     "execution_count": 14,
     "metadata": {},
     "output_type": "execute_result"
    },
    {
     "data": {
      "image/png": "[encoded data removed]",
      "text/plain": [
       "<Figure size 432x288 with 1 Axes>"
      ]
     },
     "metadata": {
      "needs_background": "light"
     },
     "output_type": "display_data"
    }
   ],
   "source": [
    "defic['instrucao'].value_counts().plot(kind='bar')"
   ]
  },
  {
   "cell_type": "code",
   "execution_count": 15,
   "metadata": {},
   "outputs": [
    {
     "data": {
      "text/plain": [
       "<matplotlib.axes._subplots.AxesSubplot at 0x20e0305d6a0>"
      ]
     },
     "execution_count": 15,
     "metadata": {},
     "output_type": "execute_result"
    },
    {
     "data": {
      "image/png": "[encoded data removed]",
      "text/plain": [
       "<Figure size 432x288 with 1 Axes>"
      ]
     },
     "metadata": {
      "needs_background": "light"
     },
     "output_type": "display_data"
    }
   ],
   "source": [
    "defic['tipodefic'].value_counts().plot(kind='bar')"
   ]
  },
  {
   "cell_type": "markdown",
   "metadata": {},
   "source": [
    "Hipótese: pessoas com alguma deficiência ganham menos do que a média em geral?"
   ]
  },
  {
   "cell_type": "code",
   "execution_count": 16,
   "metadata": {},
   "outputs": [
    {
     "name": "stdout",
     "output_type": "stream",
     "text": [
      "1627.2442231135722 2097.520546695418\n",
      "1556.7787834902244 1783.5302869347965\n"
     ]
    }
   ],
   "source": [
    "df['Salário Mensal'] = df['Salário Mensal'].str.replace(',','.')\n",
    "df['Salário Mensal'] = df['Salário Mensal'].astype(float)\n",
    "\n",
    "media_salario_geral = df['Salário Mensal'].mean()\n",
    "sigma_salario_geral = df['Salário Mensal'].std()\n",
    "\n",
    "media_salario_defic = defic['salario'].mean()\n",
    "sigma_salario_defic = defic['salario'].std()\n",
    "\n",
    "print(media_salario_geral, sigma_salario_geral)\n",
    "print(media_salario_defic, sigma_salario_defic)"
   ]
  },
  {
   "cell_type": "code",
   "execution_count": 18,
   "metadata": {},
   "outputs": [
    {
     "name": "stdout",
     "output_type": "stream",
     "text": [
      "(-2483.8205052422118, 5738.308951469356)\n",
      "1556.7787834902244\n"
     ]
    },
    {
     "data": {
      "text/plain": [
       "False"
      ]
     },
     "execution_count": 18,
     "metadata": {},
     "output_type": "execute_result"
    }
   ],
   "source": [
    "# Calculando o Intervalo de Confiança de 95% de todo o dataset\n",
    "import scipy.stats as st\n",
    "limites_salario_geral = st.norm.interval(alpha=0.95, loc=media_salario_geral, scale=sigma_salario_geral)\n",
    "print(limites_salario_geral)\n",
    "\n",
    "# Hipótese -> pessoas com alguma deficiência ganham menos do que a média em geral?\n",
    "# Verificando se o valor médio de salário das pessoas com deficiência é menor do que o limite inferior da média total\n",
    "\n",
    "print(media_salario_defic)\n",
    "media_salario_defic < limites_salario_geral[0]\n",
    "\n",
    "# False -> Mostra que os deficientes ganham estatisticamente igual á media"
   ]
  },
  {
   "cell_type": "code",
   "execution_count": null,
   "metadata": {},
   "outputs": [],
   "source": []
  }
 ],
 "metadata": {
  "kernelspec": {
   "display_name": "Python 3",
   "language": "python",
   "name": "python3"
  },
  "language_info": {
   "codemirror_mode": {
    "name": "ipython",
    "version": 3
   },
   "file_extension": ".py",
   "mimetype": "text/x-python",
   "name": "python",
   "nbconvert_exporter": "python",
   "pygments_lexer": "ipython3",
   "version": "3.7.3"
  }
 },
 "nbformat": 4,
 "nbformat_minor": 2
}
