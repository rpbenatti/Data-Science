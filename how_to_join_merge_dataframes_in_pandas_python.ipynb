{
  "nbformat": 4,
  "nbformat_minor": 0,
  "metadata": {
    "kernelspec": {
      "display_name": "Python 3",
      "language": "python",
      "name": "python3"
    },
    "language_info": {
      "codemirror_mode": {
        "name": "ipython",
        "version": 3
      },
      "file_extension": ".py",
      "mimetype": "text/x-python",
      "name": "python",
      "nbconvert_exporter": "python",
      "pygments_lexer": "ipython3",
      "version": "3.7.3"
    },
    "colab": {
      "name": "how-to-join-merge-dataframes-in-pandas-python.ipynb",
      "version": "0.3.2",
      "provenance": [],
      "include_colab_link": true
    }
  },
  "cells": [
    {
      "cell_type": "markdown",
      "metadata": {
        "id": "view-in-github",
        "colab_type": "text"
      },
      "source": [
        "<a href=\"https://colab.research.google.com/github/rpbenatti/Data-Science/blob/master/how_to_join_merge_dataframes_in_pandas_python.ipynb\" target=\"_parent\"><img src=\"https://colab.research.google.com/assets/colab-badge.svg\" alt=\"Open In Colab\"/></a>"
      ]
    },
    {
      "cell_type": "markdown",
      "metadata": {
        "id": "SxxhMNRV2ilw",
        "colab_type": "text"
      },
      "source": [
        "## How to join (merge) data frames (inner, outer, right, left join) in pandas python\n",
        "\n",
        "http://www.datasciencemadesimple.com/join-merge-data-frames-pandas-python/\n",
        "\n",
        "We can merge two data frames in pandas python by using the merge() function. The different arguments to merge() allow you to perform natural join,  left join, right join, and full outer join in pandas.\n",
        "\n",
        "- **left** − Dataframe1.\n",
        "- **right** – Dataframe2.\n",
        "- **on** − Columns (names) to join on. Must be found in both the left and right DataFrame objects.\n",
        "- **how** – type of join needs to be performed – ‘left’, ‘right’, ‘outer’, ‘inner’, Default is inner join"
      ]
    },
    {
      "cell_type": "markdown",
      "metadata": {
        "id": "idabge9Y2il0",
        "colab_type": "text"
      },
      "source": [
        "#### UNDERSTANDING THE DIFFERENT TYPES OF MERGE:\n",
        "    \n",
        "- **Natural join**: To keep only rows that match from the data frames, specify the argument how=‘inner’.\n",
        "- **Full outer join**:To keep all rows from both data frames, specify how=‘outer’.\n",
        "- **Left outer join**:To include all the rows of your data frame x and only those from y that match, specify how=‘left’.\n",
        "- **Right outer join**:To include all the rows of your data frame y and only those from x that match, specify how=‘right’."
      ]
    },
    {
      "cell_type": "code",
      "metadata": {
        "id": "ge403fsl2il2",
        "colab_type": "code",
        "colab": {}
      },
      "source": [
        "import pandas as pd\n",
        "import numpy as np\n",
        " \n",
        "clients = {'Client_ID': [111,222,333,444,555],\n",
        "           'Client_Name': ['Jon Snow','Maria Green', 'Bill Jones','Rick Lee','Pamela Lopez']\n",
        "           }\n",
        "\n",
        "countries = {'Client_ID': [111,222,333,444,777],\n",
        "             'Client_Country': ['UK','Canada','Spain','China','Brazil']\n",
        "             }"
      ],
      "execution_count": 0,
      "outputs": []
    },
    {
      "cell_type": "code",
      "metadata": {
        "id": "Feijw_Ph2il_",
        "colab_type": "code",
        "colab": {},
        "outputId": "3e426c03-0440-4a8a-c40f-66d7486fa133"
      },
      "source": [
        "# data frame 1\n",
        "df1 = pd.DataFrame(clients,columns= ['Client_ID','Client_Name'])\n",
        "print(df1)\n"
      ],
      "execution_count": 0,
      "outputs": [
        {
          "output_type": "stream",
          "text": [
            "   Client_ID   Client_Name\n",
            "0        111      Jon Snow\n",
            "1        222   Maria Green\n",
            "2        333    Bill Jones\n",
            "3        444      Rick Lee\n",
            "4        555  Pamela Lopez\n"
          ],
          "name": "stdout"
        }
      ]
    },
    {
      "cell_type": "code",
      "metadata": {
        "id": "BlI279-12imH",
        "colab_type": "code",
        "colab": {},
        "outputId": "978d38f4-387d-42bd-ba66-33bfef070d97"
      },
      "source": [
        "# data frame 2\n",
        "df2 = pd.DataFrame(countries,columns= ['Client_ID', 'Client_Country'])\n",
        "print(df2)"
      ],
      "execution_count": 0,
      "outputs": [
        {
          "output_type": "stream",
          "text": [
            "   Client_ID Client_Country\n",
            "0        111             UK\n",
            "1        222         Canada\n",
            "2        333          Spain\n",
            "3        444          China\n",
            "4        777         Brazil\n"
          ],
          "name": "stdout"
        }
      ]
    },
    {
      "cell_type": "markdown",
      "metadata": {
        "id": "dQ780Lau2imM",
        "colab_type": "text"
      },
      "source": [
        "**Inner join pandas**: Return only the rows in which the left table have matching keys in the right table"
      ]
    },
    {
      "cell_type": "code",
      "metadata": {
        "id": "k3RCpa7t2imO",
        "colab_type": "code",
        "colab": {},
        "outputId": "4109cb44-cf1a-4816-bb41-e052887cf5c2"
      },
      "source": [
        "#inner join in python pandas\n",
        "print(pd.merge(df1, df2, on='Client_ID', how='inner'))"
      ],
      "execution_count": 0,
      "outputs": [
        {
          "output_type": "stream",
          "text": [
            "   Client_ID  Client_Name Client_Country\n",
            "0        111     Jon Snow             UK\n",
            "1        222  Maria Green         Canada\n",
            "2        333   Bill Jones          Spain\n",
            "3        444     Rick Lee          China\n"
          ],
          "name": "stdout"
        }
      ]
    },
    {
      "cell_type": "markdown",
      "metadata": {
        "id": "Dj72GOVO2imT",
        "colab_type": "text"
      },
      "source": [
        "**Outer join pandas**: Returns all rows from both tables, join records from the left which have matching keys in the right table."
      ]
    },
    {
      "cell_type": "code",
      "metadata": {
        "id": "384x_4pK2imV",
        "colab_type": "code",
        "colab": {},
        "outputId": "c86c561f-7a4d-443d-a0e7-1dbf757ef400"
      },
      "source": [
        "# outer join in python pandas\n",
        "print(pd.merge(df1, df2, on='Client_ID', how='outer'))"
      ],
      "execution_count": 0,
      "outputs": [
        {
          "output_type": "stream",
          "text": [
            "   Client_ID   Client_Name Client_Country\n",
            "0        111      Jon Snow             UK\n",
            "1        222   Maria Green         Canada\n",
            "2        333    Bill Jones          Spain\n",
            "3        444      Rick Lee          China\n",
            "4        555  Pamela Lopez            NaN\n",
            "5        777           NaN         Brazil\n"
          ],
          "name": "stdout"
        }
      ]
    },
    {
      "cell_type": "markdown",
      "metadata": {
        "id": "x1wqXLFK2imb",
        "colab_type": "text"
      },
      "source": [
        "**Left outer join pandas**: Return all rows from the left table, and any rows with matching keys from the right table."
      ]
    },
    {
      "cell_type": "code",
      "metadata": {
        "id": "_Pr_6fxF2imd",
        "colab_type": "code",
        "colab": {},
        "outputId": "62ffbbcc-b3b5-4c66-83e7-66aefb0c1e61"
      },
      "source": [
        "# left join in python\n",
        "print(pd.merge(df1, df2, on='Client_ID', how='left'))"
      ],
      "execution_count": 0,
      "outputs": [
        {
          "output_type": "stream",
          "text": [
            "   Client_ID   Client_Name Client_Country\n",
            "0        111      Jon Snow             UK\n",
            "1        222   Maria Green         Canada\n",
            "2        333    Bill Jones          Spain\n",
            "3        444      Rick Lee          China\n",
            "4        555  Pamela Lopez            NaN\n"
          ],
          "name": "stdout"
        }
      ]
    },
    {
      "cell_type": "markdown",
      "metadata": {
        "id": "TJPwy2mf2imj",
        "colab_type": "text"
      },
      "source": [
        "**Right outer join pandas**: Return all rows from the right table, and any rows with matching keys from the left table."
      ]
    },
    {
      "cell_type": "code",
      "metadata": {
        "id": "c_h5zwJs2iml",
        "colab_type": "code",
        "colab": {},
        "outputId": "7d4b9bf3-17c9-43eb-e3b2-84f67fadd115"
      },
      "source": [
        "# right join in python pandas\n",
        "print( pd.merge(df1, df2, on='Client_ID', how='right'))"
      ],
      "execution_count": 0,
      "outputs": [
        {
          "output_type": "stream",
          "text": [
            "   Client_ID  Client_Name Client_Country\n",
            "0        111     Jon Snow             UK\n",
            "1        222  Maria Green         Canada\n",
            "2        333   Bill Jones          Spain\n",
            "3        444     Rick Lee          China\n",
            "4        777          NaN         Brazil\n"
          ],
          "name": "stdout"
        }
      ]
    },
    {
      "cell_type": "code",
      "metadata": {
        "id": "lCy-snXE2imp",
        "colab_type": "code",
        "colab": {}
      },
      "source": [
        ""
      ],
      "execution_count": 0,
      "outputs": []
    }
  ]
}