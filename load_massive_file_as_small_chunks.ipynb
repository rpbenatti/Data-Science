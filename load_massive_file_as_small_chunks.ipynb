{
  "nbformat": 4,
  "nbformat_minor": 0,
  "metadata": {
    "kernelspec": {
      "display_name": "Python 3",
      "language": "python",
      "name": "python3"
    },
    "language_info": {
      "codemirror_mode": {
        "name": "ipython",
        "version": 3
      },
      "file_extension": ".py",
      "mimetype": "text/x-python",
      "name": "python",
      "nbconvert_exporter": "python",
      "pygments_lexer": "ipython3",
      "version": "3.7.3"
    },
    "colab": {
      "name": "load-massive-file-as-small-chunks.ipynb",
      "version": "0.3.2",
      "provenance": [],
      "include_colab_link": true
    }
  },
  "cells": [
    {
      "cell_type": "markdown",
      "metadata": {
        "id": "view-in-github",
        "colab_type": "text"
      },
      "source": [
        "<a href=\"https://colab.research.google.com/github/rpbenatti/Data-Science/blob/master/load_massive_file_as_small_chunks.ipynb\" target=\"_parent\"><img src=\"https://colab.research.google.com/assets/colab-badge.svg\" alt=\"Open In Colab\"/></a>"
      ]
    },
    {
      "cell_type": "code",
      "metadata": {
        "id": "aWB9HxEj2rWF",
        "colab_type": "code",
        "colab": {},
        "outputId": "6197d52a-0983-4030-ab33-6d8b5418ad45"
      },
      "source": [
        "# https://cmdlinetips.com/2018/01/how-to-load-a-massive-file-as-small-chunks-in-pandas/\n",
        "\n",
        "# load pandas \n",
        "import pandas as pd\n",
        "\n",
        "# link to gapminder data as csv file\n",
        "# from software carpentry website\n",
        "csv_url='http://bit.ly/2cLzoxH'\n",
        "# use chunk size 500\n",
        "c_size = 500\n",
        "\n",
        "# load the big file in smaller chunks\n",
        "for gm_chunk in pd.read_csv(csv_url,chunksize=c_size):\n",
        "    print(gm_chunk.shape)"
      ],
      "execution_count": 0,
      "outputs": [
        {
          "output_type": "stream",
          "text": [
            "(500, 6)\n",
            "(500, 6)\n",
            "(500, 6)\n",
            "(204, 6)\n"
          ],
          "name": "stdout"
        }
      ]
    },
    {
      "cell_type": "code",
      "metadata": {
        "id": "lRJyxWbb2rWO",
        "colab_type": "code",
        "colab": {},
        "outputId": "67948da3-5363-4c34-a586-e12ce0dbb03c"
      },
      "source": [
        "# https://docs.python.org/3/library/collections.html#collections.defaultdict\n",
        "\n",
        "from collections import defaultdict\n",
        "\n",
        "# default value of int is 0 with defaultdict\n",
        "continent_dict = defaultdict(int) \n",
        "continent_number = 0\n",
        "\n",
        "for gm_chunk in pd.read_csv(csv_url,chunksize=500):\n",
        "    for c in gm_chunk['continent']:\n",
        "        #print(continent_dict)\n",
        "        #continent_dict += 1\n",
        "        continent_number += 1\n",
        "\n",
        "# print the continent_dict \n",
        "print(continent_dict)\n",
        "print(continent_number)"
      ],
      "execution_count": 0,
      "outputs": [
        {
          "output_type": "stream",
          "text": [
            "defaultdict(<class 'int'>, {})\n",
            "1704\n"
          ],
          "name": "stdout"
        }
      ]
    },
    {
      "cell_type": "code",
      "metadata": {
        "id": "onWqXSbV2rWX",
        "colab_type": "code",
        "colab": {}
      },
      "source": [
        ""
      ],
      "execution_count": 0,
      "outputs": []
    }
  ]
}